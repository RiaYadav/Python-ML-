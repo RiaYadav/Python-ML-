{
 "cells": [
  {
   "cell_type": "code",
   "execution_count": 3,
   "id": "554d3036",
   "metadata": {},
   "outputs": [],
   "source": [
    "import numpy as np\n"
   ]
  },
  {
   "cell_type": "code",
   "execution_count": 4,
   "id": "7b0900fd",
   "metadata": {},
   "outputs": [],
   "source": [
    "myList=[1,2,3,4]\n",
    "myArr=np.array(myList)\n"
   ]
  },
  {
   "cell_type": "code",
   "execution_count": 5,
   "id": "5b10f0d8",
   "metadata": {},
   "outputs": [
    {
     "data": {
      "text/plain": [
       "numpy.ndarray"
      ]
     },
     "execution_count": 5,
     "metadata": {},
     "output_type": "execute_result"
    }
   ],
   "source": [
    "type(myArr)"
   ]
  },
  {
   "cell_type": "markdown",
   "id": "51bf6cda",
   "metadata": {},
   "source": [
    "## shape & reshape"
   ]
  },
  {
   "cell_type": "code",
   "execution_count": 6,
   "id": "14b088e7",
   "metadata": {},
   "outputs": [
    {
     "data": {
      "text/plain": [
       "(4,)"
      ]
     },
     "execution_count": 6,
     "metadata": {},
     "output_type": "execute_result"
    }
   ],
   "source": [
    "\n",
    "\n",
    "myArr.shape"
   ]
  },
  {
   "cell_type": "code",
   "execution_count": 7,
   "id": "ea31e946",
   "metadata": {},
   "outputs": [],
   "source": [
    "l1=[1,2,3,4,5]\n",
    "l2=[6,7,8,9,10]\n",
    "l3=[0,2,4,6,8]\n",
    "mulArr=np.array([l1,l2,l3])"
   ]
  },
  {
   "cell_type": "code",
   "execution_count": 8,
   "id": "00f48403",
   "metadata": {},
   "outputs": [
    {
     "data": {
      "text/plain": [
       "(3, 5)"
      ]
     },
     "execution_count": 8,
     "metadata": {},
     "output_type": "execute_result"
    }
   ],
   "source": [
    "mulArr.shape"
   ]
  },
  {
   "cell_type": "code",
   "execution_count": 9,
   "id": "d6fea512",
   "metadata": {},
   "outputs": [
    {
     "data": {
      "text/plain": [
       "array([[ 1,  2,  3],\n",
       "       [ 4,  5,  6],\n",
       "       [ 7,  8,  9],\n",
       "       [10,  0,  2],\n",
       "       [ 4,  6,  8]])"
      ]
     },
     "execution_count": 9,
     "metadata": {},
     "output_type": "execute_result"
    }
   ],
   "source": [
    "mulArr.reshape(5,3)"
   ]
  },
  {
   "cell_type": "markdown",
   "id": "23a9df1a",
   "metadata": {},
   "source": [
    "# Indexing\n"
   ]
  },
  {
   "cell_type": "code",
   "execution_count": 10,
   "id": "1eeb2d49",
   "metadata": {},
   "outputs": [
    {
     "data": {
      "text/plain": [
       "array([[2],\n",
       "       [7]])"
      ]
     },
     "execution_count": 10,
     "metadata": {},
     "output_type": "execute_result"
    }
   ],
   "source": [
    "mulArr[:2,1:2]\n"
   ]
  },
  {
   "cell_type": "code",
   "execution_count": 13,
   "id": "f519526b",
   "metadata": {},
   "outputs": [
    {
     "data": {
      "text/plain": [
       "array([], shape=(0, 5), dtype=int32)"
      ]
     },
     "execution_count": 13,
     "metadata": {},
     "output_type": "execute_result"
    }
   ],
   "source": [
    "mulArr[3:,0:]"
   ]
  },
  {
   "cell_type": "code",
   "execution_count": 14,
   "id": "341c510e",
   "metadata": {},
   "outputs": [
    {
     "data": {
      "text/plain": [
       "array([[ 1,  2,  3,  4,  5],\n",
       "       [ 6,  7,  8,  9, 10],\n",
       "       [ 0,  2,  4,  6,  8]])"
      ]
     },
     "execution_count": 14,
     "metadata": {},
     "output_type": "execute_result"
    }
   ],
   "source": [
    "mulArr[:,:]"
   ]
  },
  {
   "cell_type": "code",
   "execution_count": 15,
   "id": "6cdc1696",
   "metadata": {},
   "outputs": [
    {
     "data": {
      "text/plain": [
       "array([[6, 7],\n",
       "       [0, 2]])"
      ]
     },
     "execution_count": 15,
     "metadata": {},
     "output_type": "execute_result"
    }
   ],
   "source": [
    "mulArr[1:,:2]"
   ]
  },
  {
   "cell_type": "markdown",
   "id": "bf8a192b",
   "metadata": {},
   "source": [
    "# Arange Function\n",
    "### Basically to generate the numbers in array between the given range"
   ]
  },
  {
   "cell_type": "code",
   "execution_count": 19,
   "id": "5b753495",
   "metadata": {},
   "outputs": [],
   "source": [
    "a1=np.arange(0,30,step=2)"
   ]
  },
  {
   "cell_type": "code",
   "execution_count": 20,
   "id": "a65091eb",
   "metadata": {},
   "outputs": [
    {
     "data": {
      "text/plain": [
       "array([ 0,  2,  4,  6,  8, 10, 12, 14, 16, 18, 20, 22, 24, 26, 28])"
      ]
     },
     "execution_count": 20,
     "metadata": {},
     "output_type": "execute_result"
    }
   ],
   "source": [
    "a1"
   ]
  },
  {
   "cell_type": "markdown",
   "id": "4c3f8e36",
   "metadata": {},
   "source": [
    "# copy function and broadcasting\n",
    "## copy creates anither memory location to store the value."
   ]
  },
  {
   "cell_type": "code",
   "execution_count": 21,
   "id": "1a6aef04",
   "metadata": {},
   "outputs": [],
   "source": [
    "a1[4:8]=100"
   ]
  },
  {
   "cell_type": "code",
   "execution_count": 22,
   "id": "7387c007",
   "metadata": {},
   "outputs": [
    {
     "data": {
      "text/plain": [
       "array([  0,   2,   4,   6, 100, 100, 100, 100,  16,  18,  20,  22,  24,\n",
       "        26,  28])"
      ]
     },
     "execution_count": 22,
     "metadata": {},
     "output_type": "execute_result"
    }
   ],
   "source": [
    "a1"
   ]
  },
  {
   "cell_type": "code",
   "execution_count": 23,
   "id": "3cb17733",
   "metadata": {},
   "outputs": [],
   "source": [
    "a2=a1.copy()\n",
    "a2[5:11]=300"
   ]
  },
  {
   "cell_type": "code",
   "execution_count": 24,
   "id": "2f5ddaff",
   "metadata": {},
   "outputs": [
    {
     "data": {
      "text/plain": [
       "array([  0,   2,   4,   6, 100, 300, 300, 300, 300, 300, 300,  22,  24,\n",
       "        26,  28])"
      ]
     },
     "execution_count": 24,
     "metadata": {},
     "output_type": "execute_result"
    }
   ],
   "source": [
    "a2"
   ]
  },
  {
   "cell_type": "code",
   "execution_count": 25,
   "id": "eb43a7b0",
   "metadata": {},
   "outputs": [
    {
     "data": {
      "text/plain": [
       "array([  0,   2,   4,   6, 100, 100, 100, 100,  16,  18,  20,  22,  24,\n",
       "        26,  28])"
      ]
     },
     "execution_count": 25,
     "metadata": {},
     "output_type": "execute_result"
    }
   ],
   "source": [
    "a1"
   ]
  },
  {
   "cell_type": "markdown",
   "id": "a7efc9ef",
   "metadata": {},
   "source": [
    "# For EDA (arthematic operations)"
   ]
  },
  {
   "cell_type": "code",
   "execution_count": 31,
   "id": "c67bf2ea",
   "metadata": {},
   "outputs": [
    {
     "name": "stdout",
     "output_type": "stream",
     "text": [
      "[  0   2   4   6 100 100 100 100  16  18  20  22  24  26  28]\n",
      "[  2   4   6   8 102 102 102 102  18  20  22  24  26  28  30]\n",
      "[  0   4   8  12 200 200 200 200  32  36  40  44  48  52  56]\n",
      "[ 0  1  2  3 50 50 50 50  8  9 10 11 12 13 14]\n",
      "[0 0 0 0 0 0 0 0 0 0 0 0 0 0 0]\n"
     ]
    }
   ],
   "source": [
    "print(a1)\n",
    "print(a1+2)\n",
    "print(a1*2)\n",
    "print(a1//2)\n",
    "print(a1%2)"
   ]
  },
  {
   "cell_type": "code",
   "execution_count": 40,
   "id": "c96b2b12",
   "metadata": {},
   "outputs": [
    {
     "name": "stdout",
     "output_type": "stream",
     "text": [
      "[  0   2   4   6 100 100 100 100  16  18  20  22  24  26  28]\n",
      "[  0   2   4   6 100 300 300 300 300 300 300  22  24  26  28]\n",
      "[    0     4    16    36 10000 30000 30000 30000  4800  5400  6000   484\n",
      "   576   676   784]\n"
     ]
    },
    {
     "data": {
      "text/plain": [
       "(15,)"
      ]
     },
     "execution_count": 40,
     "metadata": {},
     "output_type": "execute_result"
    }
   ],
   "source": [
    "print(a1)\n",
    "print(a2)\n",
    "newArr1=a1*a2\n",
    "print(newArr1)\n",
    "newArr1.shape"
   ]
  },
  {
   "cell_type": "markdown",
   "id": "79b21f3e",
   "metadata": {},
   "source": [
    "# For EDA (comparison)"
   ]
  },
  {
   "cell_type": "code",
   "execution_count": 33,
   "id": "518fc850",
   "metadata": {},
   "outputs": [
    {
     "data": {
      "text/plain": [
       "array([ True,  True, False, False, False, False, False, False, False,\n",
       "       False, False, False, False, False, False])"
      ]
     },
     "execution_count": 33,
     "metadata": {},
     "output_type": "execute_result"
    }
   ],
   "source": [
    "a1<4"
   ]
  },
  {
   "cell_type": "code",
   "execution_count": 35,
   "id": "7d9db173",
   "metadata": {},
   "outputs": [
    {
     "data": {
      "text/plain": [
       "array([0, 2])"
      ]
     },
     "execution_count": 35,
     "metadata": {},
     "output_type": "execute_result"
    }
   ],
   "source": [
    "#but we also want values which is less than 4 or any given number\n",
    "a1[a1<4]"
   ]
  },
  {
   "cell_type": "markdown",
   "id": "272bf23a",
   "metadata": {},
   "source": [
    "# np.ones"
   ]
  },
  {
   "cell_type": "code",
   "execution_count": 42,
   "id": "d9b416e2",
   "metadata": {},
   "outputs": [
    {
     "data": {
      "text/plain": [
       "array([1, 1, 1, 1])"
      ]
     },
     "execution_count": 42,
     "metadata": {},
     "output_type": "execute_result"
    }
   ],
   "source": [
    "np.ones(4,dtype=int)"
   ]
  },
  {
   "cell_type": "code",
   "execution_count": 45,
   "id": "48eeea16",
   "metadata": {},
   "outputs": [
    {
     "data": {
      "text/plain": [
       "array([[1., 1., 1., 1., 1.],\n",
       "       [1., 1., 1., 1., 1.]])"
      ]
     },
     "execution_count": 45,
     "metadata": {},
     "output_type": "execute_result"
    }
   ],
   "source": [
    "np.ones((2,5))"
   ]
  },
  {
   "cell_type": "markdown",
   "id": "062e5ea6",
   "metadata": {},
   "source": [
    "# Random Distribution\n"
   ]
  },
  {
   "cell_type": "code",
   "execution_count": 46,
   "id": "65104286",
   "metadata": {},
   "outputs": [
    {
     "data": {
      "text/plain": [
       "array([[0.38972111, 0.73285026, 0.71087903],\n",
       "       [0.0726997 , 0.28267711, 0.63211476],\n",
       "       [0.57259708, 0.45580794, 0.90130127]])"
      ]
     },
     "execution_count": 46,
     "metadata": {},
     "output_type": "execute_result"
    }
   ],
   "source": [
    "np.random.rand(3,3)"
   ]
  },
  {
   "cell_type": "code",
   "execution_count": 49,
   "id": "f8b3c486",
   "metadata": {},
   "outputs": [],
   "source": [
    "arrx=np.random.randn(4,4)"
   ]
  },
  {
   "cell_type": "code",
   "execution_count": 50,
   "id": "4618d1be",
   "metadata": {},
   "outputs": [
    {
     "data": {
      "text/plain": [
       "array([[-2.94254493, -0.25163116,  0.08190038, -0.59323749],\n",
       "       [-1.32622559, -0.34131422, -0.98164326, -1.28640765],\n",
       "       [-1.02015644,  0.76012889,  0.75090094, -0.18872366],\n",
       "       [-0.778829  , -0.15109812, -0.7493988 ,  0.02140007]])"
      ]
     },
     "execution_count": 50,
     "metadata": {},
     "output_type": "execute_result"
    }
   ],
   "source": [
    "arrx"
   ]
  },
  {
   "cell_type": "code",
   "execution_count": 54,
   "id": "04ed91c7",
   "metadata": {},
   "outputs": [
    {
     "data": {
      "text/plain": [
       "array([[47, 60, 49, 73],\n",
       "       [79, 51, 81, 59]])"
      ]
     },
     "execution_count": 54,
     "metadata": {},
     "output_type": "execute_result"
    }
   ],
   "source": [
    "np.random.randint(0,100,8).reshape(2,4)"
   ]
  },
  {
   "cell_type": "code",
   "execution_count": 57,
   "id": "0d62455a",
   "metadata": {},
   "outputs": [
    {
     "data": {
      "text/plain": [
       "array([[0.57114151, 0.18780241, 0.29673943, 0.08541797, 0.87691226]])"
      ]
     },
     "execution_count": 57,
     "metadata": {},
     "output_type": "execute_result"
    }
   ],
   "source": [
    "np.random.random_sample((1,5))"
   ]
  },
  {
   "cell_type": "code",
   "execution_count": null,
   "id": "fe214dd8",
   "metadata": {},
   "outputs": [],
   "source": []
  }
 ],
 "metadata": {
  "kernelspec": {
   "display_name": "Python 3",
   "language": "python",
   "name": "python3"
  },
  "language_info": {
   "codemirror_mode": {
    "name": "ipython",
    "version": 3
   },
   "file_extension": ".py",
   "mimetype": "text/x-python",
   "name": "python",
   "nbconvert_exporter": "python",
   "pygments_lexer": "ipython3",
   "version": "3.8.8"
  }
 },
 "nbformat": 4,
 "nbformat_minor": 5
}
