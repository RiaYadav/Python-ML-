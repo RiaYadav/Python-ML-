{
 "cells": [
  {
   "cell_type": "code",
   "execution_count": 1,
   "id": "cf1427c4",
   "metadata": {},
   "outputs": [],
   "source": [
    "# Fibonacci Series using Dynamic Programming\n",
    "import numpy as np\n",
    "\n",
    "# input data\n",
    "X = np.array([-4.  , -3.93, -3.86, -3.79, -3.72, -3.65, -3.58, -3.51, -3.44,\n",
    "       -3.37, -3.3 , -3.23, -3.16, -3.09, -3.02, -2.95, -2.88, -2.81,\n",
    "       -2.74, -2.67, -2.6 , -2.53, -2.46, -2.39, -2.32, -2.25, -2.18,\n",
    "       -2.11, -2.04, -1.97, -1.9 , -1.83, -1.76, -1.69, -1.62, -1.55,\n",
    "       -1.48, -1.41, -1.34, -1.27, -1.2 , -1.13, -1.06, -0.99, -0.92,\n",
    "       -0.85, -0.78, -0.71, -0.64, -0.57, -0.5 , -0.43, -0.36, -0.29,\n",
    "       -0.22, -0.15, -0.08, -0.01,  0.06,  0.13,  0.2 ,  0.27,  0.34,\n",
    "        0.41,  0.48,  0.55,  0.62,  0.69,  0.76,  0.83,  0.9 ,  0.97,\n",
    "        1.04,  1.11,  1.18,  1.25,  1.32,  1.39,  1.46,  1.53,  1.6 ,\n",
    "        1.67,  1.74,  1.81,  1.88,  1.95,  2.02,  2.09,  2.16,  2.23,\n",
    "        2.3 ,  2.37,  2.44,  2.51,  2.58,  2.65,  2.72,  2.79,  2.86,\n",
    "        2.93,  3.  ])\n"
   ]
  },
  {
   "cell_type": "code",
   "execution_count": 2,
   "id": "cac776cc",
   "metadata": {},
   "outputs": [
    {
     "data": {
      "text/plain": [
       "array([-4.  , -3.93, -3.86, -3.79, -3.72, -3.65, -3.58, -3.51, -3.44,\n",
       "       -3.37, -3.3 , -3.23, -3.16, -3.09, -3.02, -2.95, -2.88, -2.81,\n",
       "       -2.74, -2.67, -2.6 , -2.53, -2.46, -2.39, -2.32, -2.25, -2.18,\n",
       "       -2.11, -2.04, -1.97, -1.9 , -1.83, -1.76, -1.69, -1.62, -1.55,\n",
       "       -1.48, -1.41, -1.34, -1.27, -1.2 , -1.13, -1.06, -0.99, -0.92,\n",
       "       -0.85, -0.78, -0.71, -0.64, -0.57, -0.5 , -0.43, -0.36, -0.29,\n",
       "       -0.22, -0.15, -0.08, -0.01,  0.06,  0.13,  0.2 ,  0.27,  0.34,\n",
       "        0.41,  0.48,  0.55,  0.62,  0.69,  0.76,  0.83,  0.9 ,  0.97,\n",
       "        1.04,  1.11,  1.18,  1.25,  1.32,  1.39,  1.46,  1.53,  1.6 ,\n",
       "        1.67,  1.74,  1.81,  1.88,  1.95,  2.02,  2.09,  2.16,  2.23,\n",
       "        2.3 ,  2.37,  2.44,  2.51,  2.58,  2.65,  2.72,  2.79,  2.86,\n",
       "        2.93,  3.  ])"
      ]
     },
     "execution_count": 2,
     "metadata": {},
     "output_type": "execute_result"
    }
   ],
   "source": [
    "X\n"
   ]
  },
  {
   "cell_type": "code",
   "execution_count": 3,
   "id": "e6e3106e",
   "metadata": {},
   "outputs": [],
   "source": [
    "y = np.array([-11.61097024, -13.80398384,  -5.80217162, -14.60560566,\n",
    "        -6.22662915,  -6.53789994,  -4.78688843,  -7.55111971,\n",
    "       -10.82627732,  -5.83400712,  -0.51153747,  -3.40800468,\n",
    "        -4.91012037,  -2.85571775,   4.93344467,   3.031481  ,\n",
    "         7.60060159,   3.61090152,   4.80585568,   5.80387282,\n",
    "         4.73383811,   3.96701014,   9.89201632,  10.16221009,\n",
    "         8.91683683,  10.81811131,   7.01559715,  11.64342077,\n",
    "        12.13469442,   3.21058047,   9.13048255,  10.94067439,\n",
    "         1.0877322 ,  10.73174574,  16.42673774,   9.13328576,\n",
    "         6.94898311,  10.73205026,   5.94292097,   7.85067401,\n",
    "         6.83167022,   8.45545877,   3.52551398,   8.69534798,\n",
    "         9.61255811,   2.31587051,   5.9455995 ,   4.89192117,\n",
    "         7.22759065,   3.96220907,  11.84016941,   4.583824  ,\n",
    "         9.95697231,   5.80600582,   0.14971804,   0.28945444,\n",
    "         4.09860922,   2.53722664,  11.1535272 ,   9.1620769 ,\n",
    "        -2.2835767 ,   8.46260799,   6.56119706,  -0.97359265,\n",
    "        -2.55847688,   7.16677389,   6.23700673,  -2.35577761,\n",
    "         7.0874617 ,   6.7098708 ,   4.47417642,   1.61135049,\n",
    "         0.51465989,   7.10685412,   6.21778497,  -1.58295202,\n",
    "         6.86449573,   3.45903398,   3.68995176,   3.73353697,\n",
    "         8.40832278,   5.60169355,   7.48855154,   7.4973514 ,\n",
    "         8.21647283,  13.96043973,  21.76863294,   8.64509476,\n",
    "        17.72720851,  16.25623243,  24.55271417,  21.53196005,\n",
    "        17.02110048,  25.52974138,  31.4260728 ,  31.78004344,\n",
    "        34.3865195 ,  42.26191355,  29.64347254,  41.51331509,\n",
    "        35.07951656])\n",
    "\n",
    "\n"
   ]
  },
  {
   "cell_type": "code",
   "execution_count": 4,
   "id": "8306c959",
   "metadata": {},
   "outputs": [],
   "source": [
    "import matplotlib.pyplot as plt\n",
    "import numpy as np\n",
    "import pandas as pd\n",
    "%matplotlib inline"
   ]
  },
  {
   "cell_type": "code",
   "execution_count": 7,
   "id": "88db8d35",
   "metadata": {},
   "outputs": [
    {
     "data": {
      "text/plain": [
       "<matplotlib.collections.PathCollection at 0x2045a0ae340>"
      ]
     },
     "execution_count": 7,
     "metadata": {},
     "output_type": "execute_result"
    },
    {
     "data": {
      "image/png": "[encoded data removed]",
      "text/plain": [
       "<Figure size 432x288 with 1 Axes>"
      ]
     },
     "metadata": {
      "needs_background": "light"
     },
     "output_type": "display_data"
    }
   ],
   "source": [
    "plt.scatter(X,y,color='blue',marker='o')"
   ]
  },
  {
   "cell_type": "code",
   "execution_count": 8,
   "id": "d420e7ff",
   "metadata": {},
   "outputs": [
    {
     "data": {
      "text/plain": [
       "-0.49999999999999983"
      ]
     },
     "execution_count": 8,
     "metadata": {},
     "output_type": "execute_result"
    }
   ],
   "source": [
    "mean_value=X.mean()\n",
    "mean_value\n"
   ]
  },
  {
   "cell_type": "code",
   "execution_count": 9,
   "id": "fa6c915f",
   "metadata": {},
   "outputs": [
    {
     "data": {
      "text/plain": [
       "<matplotlib.lines.Line2D at 0x2045a117340>"
      ]
     },
     "execution_count": 9,
     "metadata": {},
     "output_type": "execute_result"
    },
    {
     "data": {
      "image/png": "[encoded data removed]",
      "text/plain": [
       "<Figure size 432x288 with 1 Axes>"
      ]
     },
     "metadata": {
      "needs_background": "light"
     },
     "output_type": "display_data"
    }
   ],
   "source": [
    "plt.axhline(y=mean_value,c='r')"
   ]
  },
  {
   "cell_type": "code",
   "execution_count": 12,
   "id": "e4c3ba15",
   "metadata": {},
   "outputs": [
    {
     "data": {
      "text/plain": [
       "Text(0, 0.5, 'Y-output')"
      ]
     },
     "execution_count": 12,
     "metadata": {},
     "output_type": "execute_result"
    },
    {
     "data": {
      "image/png": "[encoded data removed]",
      "text/plain": [
       "<Figure size 432x288 with 1 Axes>"
      ]
     },
     "metadata": {
      "needs_background": "light"
     },
     "output_type": "display_data"
    }
   ],
   "source": [
    "plt.scatter(X,y,color='blue',marker='o')\n",
    "plt.axhline(y=mean_value,c='r')\n",
    "plt.annotate(\"Mean Value\",xy=(5.5,mean_value+2))\n",
    "plt.xlabel(\"X-input\")\n",
    "plt.ylabel(\"Y-output\")"
   ]
  },
  {
   "cell_type": "code",
   "execution_count": null,
   "id": "8bba2b3f",
   "metadata": {},
   "outputs": [],
   "source": []
  }
 ],
 "metadata": {
  "kernelspec": {
   "display_name": "Python 3",
   "language": "python",
   "name": "python3"
  },
  "language_info": {
   "codemirror_mode": {
    "name": "ipython",
    "version": 3
   },
   "file_extension": ".py",
   "mimetype": "text/x-python",
   "name": "python",
   "nbconvert_exporter": "python",
   "pygments_lexer": "ipython3",
   "version": "3.8.8"
  }
 },
 "nbformat": 4,
 "nbformat_minor": 5
}
