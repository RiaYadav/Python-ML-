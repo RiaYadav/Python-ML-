{
 "cells": [
  {
   "cell_type": "code",
   "execution_count": 1,
   "id": "30c67616",
   "metadata": {},
   "outputs": [],
   "source": [
    "# Fibonacci Series using Dynamic Programming\n",
    "import numpy as np\n",
    "\n",
    "# input data\n",
    "X = np.array([-4.  , -3.93, -3.86, -3.79, -3.72, -3.65, -3.58, -3.51, -3.44,\n",
    "       -3.37, -3.3 , -3.23, -3.16, -3.09, -3.02, -2.95, -2.88, -2.81,\n",
    "       -2.74, -2.67, -2.6 , -2.53, -2.46, -2.39, -2.32, -2.25, -2.18,\n",
    "       -2.11, -2.04, -1.97, -1.9 , -1.83, -1.76, -1.69, -1.62, -1.55,\n",
    "       -1.48, -1.41, -1.34, -1.27, -1.2 , -1.13, -1.06, -0.99, -0.92,\n",
    "       -0.85, -0.78, -0.71, -0.64, -0.57, -0.5 , -0.43, -0.36, -0.29,\n",
    "       -0.22, -0.15, -0.08, -0.01,  0.06,  0.13,  0.2 ,  0.27,  0.34,\n",
    "        0.41,  0.48,  0.55,  0.62,  0.69,  0.76,  0.83,  0.9 ,  0.97,\n",
    "        1.04,  1.11,  1.18,  1.25,  1.32,  1.39,  1.46,  1.53,  1.6 ,\n",
    "        1.67,  1.74,  1.81,  1.88,  1.95,  2.02,  2.09,  2.16,  2.23,\n",
    "        2.3 ,  2.37,  2.44,  2.51,  2.58,  2.65,  2.72,  2.79,  2.86,\n",
    "        2.93,  3.  ])\n"
   ]
  },
  {
   "cell_type": "code",
   "execution_count": 2,
   "id": "351817f5",
   "metadata": {},
   "outputs": [
    {
     "data": {
      "text/plain": [
       "array([-4.  , -3.93, -3.86, -3.79, -3.72, -3.65, -3.58, -3.51, -3.44,\n",
       "       -3.37, -3.3 , -3.23, -3.16, -3.09, -3.02, -2.95, -2.88, -2.81,\n",
       "       -2.74, -2.67, -2.6 , -2.53, -2.46, -2.39, -2.32, -2.25, -2.18,\n",
       "       -2.11, -2.04, -1.97, -1.9 , -1.83, -1.76, -1.69, -1.62, -1.55,\n",
       "       -1.48, -1.41, -1.34, -1.27, -1.2 , -1.13, -1.06, -0.99, -0.92,\n",
       "       -0.85, -0.78, -0.71, -0.64, -0.57, -0.5 , -0.43, -0.36, -0.29,\n",
       "       -0.22, -0.15, -0.08, -0.01,  0.06,  0.13,  0.2 ,  0.27,  0.34,\n",
       "        0.41,  0.48,  0.55,  0.62,  0.69,  0.76,  0.83,  0.9 ,  0.97,\n",
       "        1.04,  1.11,  1.18,  1.25,  1.32,  1.39,  1.46,  1.53,  1.6 ,\n",
       "        1.67,  1.74,  1.81,  1.88,  1.95,  2.02,  2.09,  2.16,  2.23,\n",
       "        2.3 ,  2.37,  2.44,  2.51,  2.58,  2.65,  2.72,  2.79,  2.86,\n",
       "        2.93,  3.  ])"
      ]
     },
     "execution_count": 2,
     "metadata": {},
     "output_type": "execute_result"
    }
   ],
   "source": [
    "X\n"
   ]
  },
  {
   "cell_type": "code",
   "execution_count": 3,
   "id": "511e9537",
   "metadata": {},
   "outputs": [],
   "source": [
    "y = np.array([-11.61097024, -13.80398384,  -5.80217162, -14.60560566,\n",
    "        -6.22662915,  -6.53789994,  -4.78688843,  -7.55111971,\n",
    "       -10.82627732,  -5.83400712,  -0.51153747,  -3.40800468,\n",
    "        -4.91012037,  -2.85571775,   4.93344467,   3.031481  ,\n",
    "         7.60060159,   3.61090152,   4.80585568,   5.80387282,\n",
    "         4.73383811,   3.96701014,   9.89201632,  10.16221009,\n",
    "         8.91683683,  10.81811131,   7.01559715,  11.64342077,\n",
    "        12.13469442,   3.21058047,   9.13048255,  10.94067439,\n",
    "         1.0877322 ,  10.73174574,  16.42673774,   9.13328576,\n",
    "         6.94898311,  10.73205026,   5.94292097,   7.85067401,\n",
    "         6.83167022,   8.45545877,   3.52551398,   8.69534798,\n",
    "         9.61255811,   2.31587051,   5.9455995 ,   4.89192117,\n",
    "         7.22759065,   3.96220907,  11.84016941,   4.583824  ,\n",
    "         9.95697231,   5.80600582,   0.14971804,   0.28945444,\n",
    "         4.09860922,   2.53722664,  11.1535272 ,   9.1620769 ,\n",
    "        -2.2835767 ,   8.46260799,   6.56119706,  -0.97359265,\n",
    "        -2.55847688,   7.16677389,   6.23700673,  -2.35577761,\n",
    "         7.0874617 ,   6.7098708 ,   4.47417642,   1.61135049,\n",
    "         0.51465989,   7.10685412,   6.21778497,  -1.58295202,\n",
    "         6.86449573,   3.45903398,   3.68995176,   3.73353697,\n",
    "         8.40832278,   5.60169355,   7.48855154,   7.4973514 ,\n",
    "         8.21647283,  13.96043973,  21.76863294,   8.64509476,\n",
    "        17.72720851,  16.25623243,  24.55271417,  21.53196005,\n",
    "        17.02110048,  25.52974138,  31.4260728 ,  31.78004344,\n",
    "        34.3865195 ,  42.26191355,  29.64347254,  41.51331509,\n",
    "        35.07951656])\n",
    "\n",
    "\n"
   ]
  },
  {
   "cell_type": "code",
   "execution_count": 4,
   "id": "c3dd0ee2",
   "metadata": {},
   "outputs": [],
   "source": [
    "import matplotlib.pyplot as plt\n",
    "import numpy as np\n",
    "import pandas as pd\n",
    "%matplotlib inline"
   ]
  },
  {
   "cell_type": "code",
   "execution_count": 7,
   "id": "48e9ecaf",
   "metadata": {},
   "outputs": [
    {
     "data": {
      "text/plain": [
       "<matplotlib.collections.PathCollection at 0x2045a0ae340>"
      ]
     },
     "execution_count": 7,
     "metadata": {},
     "output_type": "execute_result"
    },
    {
     "data": {
      "image/png": "[encoded data removed]",
      "text/plain": [
       "<Figure size 432x288 with 1 Axes>"
      ]
     },
     "metadata": {
      "needs_background": "light"
     },
     "output_type": "display_data"
    }
   ],
   "source": [
    "plt.scatter(X,y,color='blue',marker='o')"
   ]
  },
  {
   "cell_type": "code",
   "execution_count": 8,
   "id": "1727fc3b",
   "metadata": {},
   "outputs": [
    {
     "data": {
      "text/plain": [
       "-0.49999999999999983"
      ]
     },
     "execution_count": 8,
     "metadata": {},
     "output_type": "execute_result"
    }
   ],
   "source": [
    "mean_value=X.mean()\n",
    "mean_value\n"
   ]
  },
  {
   "cell_type": "code",
   "execution_count": 9,
   "id": "027f29ef",
   "metadata": {},
   "outputs": [
    {
     "data": {
      "text/plain": [
       "<matplotlib.lines.Line2D at 0x2045a117340>"
      ]
     },
     "execution_count": 9,
     "metadata": {},
     "output_type": "execute_result"
    },
    {
     "data": {
      "image/png": "[encoded data removed]",
      "text/plain": [
       "<Figure size 432x288 with 1 Axes>"
      ]
     },
     "metadata": {
      "needs_background": "light"
     },
     "output_type": "display_data"
    }
   ],
   "source": [
    "plt.axhline(y=mean_value,c='r')"
   ]
  },
  {
   "cell_type": "code",
   "execution_count": 15,
   "id": "81a2950a",
   "metadata": {},
   "outputs": [
    {
     "data": {
      "text/plain": [
       "Text(0, 0.5, 'Y-output')"
      ]
     },
     "execution_count": 15,
     "metadata": {},
     "output_type": "execute_result"
    },
    {
     "data": {
      "image/png": "[encoded data removed]",
      "text/plain": [
       "<Figure size 432x288 with 1 Axes>"
      ]
     },
     "metadata": {
      "needs_background": "light"
     },
     "output_type": "display_data"
    }
   ],
   "source": [
    "plt.scatter(X,y,color='blue',marker='o')\n",
    "plt.axhline(y=mean_value,c='r')\n",
    "plt.annotate(\"Mean Value\",xy=(1.5,mean_value+2))\n",
    "plt.xlabel(\"X-input\")\n",
    "plt.ylabel(\"Y-output\")"
   ]
  },
  {
   "cell_type": "code",
   "execution_count": 16,
   "id": "4c11ca7d",
   "metadata": {},
   "outputs": [],
   "source": [
    "#Creatig regression model\n",
    "min_model0= X.mean()\n",
    "min_model1 = 10 + 12*y\n",
    "min_model2= 6 + 18*y"
   ]
  },
  {
   "cell_type": "code",
   "execution_count": 18,
   "id": "3e37acb4",
   "metadata": {},
   "outputs": [
    {
     "ename": "ValueError",
     "evalue": "x and y must have same first dimension, but have shapes (101,) and (1,)",
     "output_type": "error",
     "traceback": [
      "\u001b[1;31m---------------------------------------------------------------------------\u001b[0m",
      "\u001b[1;31mValueError\u001b[0m                                Traceback (most recent call last)",
      "\u001b[1;32m<ipython-input-18-458cdeb90ee0>\u001b[0m in \u001b[0;36m<module>\u001b[1;34m\u001b[0m\n\u001b[0;32m      5\u001b[0m \u001b[1;33m\u001b[0m\u001b[0m\n\u001b[0;32m      6\u001b[0m \u001b[1;31m# Plotting the Model0 predictions\u001b[0m\u001b[1;33m\u001b[0m\u001b[1;33m\u001b[0m\u001b[1;33m\u001b[0m\u001b[0m\n\u001b[1;32m----> 7\u001b[1;33m \u001b[0max\u001b[0m\u001b[1;33m.\u001b[0m\u001b[0mplot\u001b[0m\u001b[1;33m(\u001b[0m\u001b[0mX\u001b[0m\u001b[1;33m,\u001b[0m\u001b[0mmin_model0\u001b[0m\u001b[1;33m,\u001b[0m\u001b[0mcolor\u001b[0m\u001b[1;33m=\u001b[0m\u001b[1;34m\"red\"\u001b[0m\u001b[1;33m,\u001b[0m\u001b[0mlabel\u001b[0m\u001b[1;33m=\u001b[0m\u001b[1;34m'model0'\u001b[0m\u001b[1;33m)\u001b[0m\u001b[1;33m\u001b[0m\u001b[1;33m\u001b[0m\u001b[0m\n\u001b[0m\u001b[0;32m      8\u001b[0m \u001b[1;33m\u001b[0m\u001b[0m\n\u001b[0;32m      9\u001b[0m \u001b[1;31m# Plotting the Model1 predictions\u001b[0m\u001b[1;33m\u001b[0m\u001b[1;33m\u001b[0m\u001b[1;33m\u001b[0m\u001b[0m\n",
      "\u001b[1;32mc:\\users\\riary\\appdata\\local\\programs\\python\\python38\\lib\\site-packages\\matplotlib\\axes\\_axes.py\u001b[0m in \u001b[0;36mplot\u001b[1;34m(self, scalex, scaley, data, *args, **kwargs)\u001b[0m\n\u001b[0;32m   1603\u001b[0m         \"\"\"\n\u001b[0;32m   1604\u001b[0m         \u001b[0mkwargs\u001b[0m \u001b[1;33m=\u001b[0m \u001b[0mcbook\u001b[0m\u001b[1;33m.\u001b[0m\u001b[0mnormalize_kwargs\u001b[0m\u001b[1;33m(\u001b[0m\u001b[0mkwargs\u001b[0m\u001b[1;33m,\u001b[0m \u001b[0mmlines\u001b[0m\u001b[1;33m.\u001b[0m\u001b[0mLine2D\u001b[0m\u001b[1;33m)\u001b[0m\u001b[1;33m\u001b[0m\u001b[1;33m\u001b[0m\u001b[0m\n\u001b[1;32m-> 1605\u001b[1;33m         \u001b[0mlines\u001b[0m \u001b[1;33m=\u001b[0m \u001b[1;33m[\u001b[0m\u001b[1;33m*\u001b[0m\u001b[0mself\u001b[0m\u001b[1;33m.\u001b[0m\u001b[0m_get_lines\u001b[0m\u001b[1;33m(\u001b[0m\u001b[1;33m*\u001b[0m\u001b[0margs\u001b[0m\u001b[1;33m,\u001b[0m \u001b[0mdata\u001b[0m\u001b[1;33m=\u001b[0m\u001b[0mdata\u001b[0m\u001b[1;33m,\u001b[0m \u001b[1;33m**\u001b[0m\u001b[0mkwargs\u001b[0m\u001b[1;33m)\u001b[0m\u001b[1;33m]\u001b[0m\u001b[1;33m\u001b[0m\u001b[1;33m\u001b[0m\u001b[0m\n\u001b[0m\u001b[0;32m   1606\u001b[0m         \u001b[1;32mfor\u001b[0m \u001b[0mline\u001b[0m \u001b[1;32min\u001b[0m \u001b[0mlines\u001b[0m\u001b[1;33m:\u001b[0m\u001b[1;33m\u001b[0m\u001b[1;33m\u001b[0m\u001b[0m\n\u001b[0;32m   1607\u001b[0m             \u001b[0mself\u001b[0m\u001b[1;33m.\u001b[0m\u001b[0madd_line\u001b[0m\u001b[1;33m(\u001b[0m\u001b[0mline\u001b[0m\u001b[1;33m)\u001b[0m\u001b[1;33m\u001b[0m\u001b[1;33m\u001b[0m\u001b[0m\n",
      "\u001b[1;32mc:\\users\\riary\\appdata\\local\\programs\\python\\python38\\lib\\site-packages\\matplotlib\\axes\\_base.py\u001b[0m in \u001b[0;36m__call__\u001b[1;34m(self, data, *args, **kwargs)\u001b[0m\n\u001b[0;32m    313\u001b[0m                 \u001b[0mthis\u001b[0m \u001b[1;33m+=\u001b[0m \u001b[0margs\u001b[0m\u001b[1;33m[\u001b[0m\u001b[1;36m0\u001b[0m\u001b[1;33m]\u001b[0m\u001b[1;33m,\u001b[0m\u001b[1;33m\u001b[0m\u001b[1;33m\u001b[0m\u001b[0m\n\u001b[0;32m    314\u001b[0m                 \u001b[0margs\u001b[0m \u001b[1;33m=\u001b[0m \u001b[0margs\u001b[0m\u001b[1;33m[\u001b[0m\u001b[1;36m1\u001b[0m\u001b[1;33m:\u001b[0m\u001b[1;33m]\u001b[0m\u001b[1;33m\u001b[0m\u001b[1;33m\u001b[0m\u001b[0m\n\u001b[1;32m--> 315\u001b[1;33m             \u001b[1;32myield\u001b[0m \u001b[1;32mfrom\u001b[0m \u001b[0mself\u001b[0m\u001b[1;33m.\u001b[0m\u001b[0m_plot_args\u001b[0m\u001b[1;33m(\u001b[0m\u001b[0mthis\u001b[0m\u001b[1;33m,\u001b[0m \u001b[0mkwargs\u001b[0m\u001b[1;33m)\u001b[0m\u001b[1;33m\u001b[0m\u001b[1;33m\u001b[0m\u001b[0m\n\u001b[0m\u001b[0;32m    316\u001b[0m \u001b[1;33m\u001b[0m\u001b[0m\n\u001b[0;32m    317\u001b[0m     \u001b[1;32mdef\u001b[0m \u001b[0mget_next_color\u001b[0m\u001b[1;33m(\u001b[0m\u001b[0mself\u001b[0m\u001b[1;33m)\u001b[0m\u001b[1;33m:\u001b[0m\u001b[1;33m\u001b[0m\u001b[1;33m\u001b[0m\u001b[0m\n",
      "\u001b[1;32mc:\\users\\riary\\appdata\\local\\programs\\python\\python38\\lib\\site-packages\\matplotlib\\axes\\_base.py\u001b[0m in \u001b[0;36m_plot_args\u001b[1;34m(self, tup, kwargs, return_kwargs)\u001b[0m\n\u001b[0;32m    499\u001b[0m \u001b[1;33m\u001b[0m\u001b[0m\n\u001b[0;32m    500\u001b[0m         \u001b[1;32mif\u001b[0m \u001b[0mx\u001b[0m\u001b[1;33m.\u001b[0m\u001b[0mshape\u001b[0m\u001b[1;33m[\u001b[0m\u001b[1;36m0\u001b[0m\u001b[1;33m]\u001b[0m \u001b[1;33m!=\u001b[0m \u001b[0my\u001b[0m\u001b[1;33m.\u001b[0m\u001b[0mshape\u001b[0m\u001b[1;33m[\u001b[0m\u001b[1;36m0\u001b[0m\u001b[1;33m]\u001b[0m\u001b[1;33m:\u001b[0m\u001b[1;33m\u001b[0m\u001b[1;33m\u001b[0m\u001b[0m\n\u001b[1;32m--> 501\u001b[1;33m             raise ValueError(f\"x and y must have same first dimension, but \"\n\u001b[0m\u001b[0;32m    502\u001b[0m                              f\"have shapes {x.shape} and {y.shape}\")\n\u001b[0;32m    503\u001b[0m         \u001b[1;32mif\u001b[0m \u001b[0mx\u001b[0m\u001b[1;33m.\u001b[0m\u001b[0mndim\u001b[0m \u001b[1;33m>\u001b[0m \u001b[1;36m2\u001b[0m \u001b[1;32mor\u001b[0m \u001b[0my\u001b[0m\u001b[1;33m.\u001b[0m\u001b[0mndim\u001b[0m \u001b[1;33m>\u001b[0m \u001b[1;36m2\u001b[0m\u001b[1;33m:\u001b[0m\u001b[1;33m\u001b[0m\u001b[1;33m\u001b[0m\u001b[0m\n",
      "\u001b[1;31mValueError\u001b[0m: x and y must have same first dimension, but have shapes (101,) and (1,)"
     ]
    },
    {
     "data": {
      "image/png": "[encoded data removed]",
      "text/plain": [
       "<Figure size 432x288 with 1 Axes>"
      ]
     },
     "metadata": {
      "needs_background": "light"
     },
     "output_type": "display_data"
    }
   ],
   "source": [
    "fig,ax = plt.subplots()\n",
    "\n",
    "# Plotting the actual 'Minutes'\n",
    "ax.scatter(x=\"X-input\",y=\"Y-output\",data=[[X,y]],label='actual repair time')\n",
    "\n",
    "# Plotting the Model0 predictions\n",
    "ax.plot(X,min_model0,color=\"red\",label='model0')\n",
    "\n",
    "# Plotting the Model1 predictions\n",
    "ax.plot(X,min_model1,color=\"green\",label='model1')\n",
    "\n",
    "# Plotting the Model2 predictions\n",
    "ax.plot(X,min_model2,color=\"black\",label='model2')\n",
    "\n",
    "# Adding xlabel, ylabel, title and legend \n",
    "ax.set_ylabel(\"Minutes\")\n",
    "ax.set_xlabel(\"Units\")\n",
    "ax.set_title(\"Speculated Models\")\n",
    "ax.legend()\n"
   ]
  },
  {
   "cell_type": "code",
   "execution_count": null,
   "id": "5540c0d5",
   "metadata": {},
   "outputs": [],
   "source": []
  }
 ],
 "metadata": {
  "kernelspec": {
   "display_name": "Python 3",
   "language": "python",
   "name": "python3"
  },
  "language_info": {
   "codemirror_mode": {
    "name": "ipython",
    "version": 3
   },
   "file_extension": ".py",
   "mimetype": "text/x-python",
   "name": "python",
   "nbconvert_exporter": "python",
   "pygments_lexer": "ipython3",
   "version": "3.8.8"
  }
 },
 "nbformat": 4,
 "nbformat_minor": 5
}
