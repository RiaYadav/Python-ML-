{
 "cells": [
  {
   "cell_type": "code",
   "execution_count": 2,
   "id": "69217011",
   "metadata": {},
   "outputs": [],
   "source": [
    "import numpy as np\n",
    "import pandas as pd\n",
    "import seaborn as sns\n",
    "import matplotlib.pyplot as plt\n",
    "%matplotlib inline"
   ]
  },
  {
   "cell_type": "code",
   "execution_count": 3,
   "id": "b4ee93c8",
   "metadata": {},
   "outputs": [
    {
     "data": {
      "text/html": [
       "<div>\n",
       "<style scoped>\n",
       "    .dataframe tbody tr th:only-of-type {\n",
       "        vertical-align: middle;\n",
       "    }\n",
       "\n",
       "    .dataframe tbody tr th {\n",
       "        vertical-align: top;\n",
       "    }\n",
       "\n",
       "    .dataframe thead th {\n",
       "        text-align: right;\n",
       "    }\n",
       "</style>\n",
       "<table border=\"1\" class=\"dataframe\">\n",
       "  <thead>\n",
       "    <tr style=\"text-align: right;\">\n",
       "      <th></th>\n",
       "      <th>n.prod</th>\n",
       "      <th>distance</th>\n",
       "      <th>delTime</th>\n",
       "    </tr>\n",
       "  </thead>\n",
       "  <tbody>\n",
       "    <tr>\n",
       "      <th>0</th>\n",
       "      <td>7</td>\n",
       "      <td>560</td>\n",
       "      <td>16.68</td>\n",
       "    </tr>\n",
       "    <tr>\n",
       "      <th>1</th>\n",
       "      <td>3</td>\n",
       "      <td>220</td>\n",
       "      <td>11.50</td>\n",
       "    </tr>\n",
       "    <tr>\n",
       "      <th>2</th>\n",
       "      <td>3</td>\n",
       "      <td>340</td>\n",
       "      <td>12.03</td>\n",
       "    </tr>\n",
       "    <tr>\n",
       "      <th>3</th>\n",
       "      <td>4</td>\n",
       "      <td>80</td>\n",
       "      <td>14.88</td>\n",
       "    </tr>\n",
       "    <tr>\n",
       "      <th>4</th>\n",
       "      <td>6</td>\n",
       "      <td>150</td>\n",
       "      <td>13.75</td>\n",
       "    </tr>\n",
       "  </tbody>\n",
       "</table>\n",
       "</div>"
      ],
      "text/plain": [
       "   n.prod  distance  delTime\n",
       "0       7       560    16.68\n",
       "1       3       220    11.50\n",
       "2       3       340    12.03\n",
       "3       4        80    14.88\n",
       "4       6       150    13.75"
      ]
     },
     "execution_count": 3,
     "metadata": {},
     "output_type": "execute_result"
    }
   ],
   "source": [
    "# read the data from input csv file\n",
    "delivery = pd.read_csv(\"../regressionDataSet/delivery.csv\")\n",
    "# view sample data\n",
    "delivery.head()\n"
   ]
  },
  {
   "cell_type": "code",
   "execution_count": 4,
   "id": "88a17f14",
   "metadata": {},
   "outputs": [
    {
     "name": "stdout",
     "output_type": "stream",
     "text": [
      "<class 'pandas.core.frame.DataFrame'>\n",
      "RangeIndex: 25 entries, 0 to 24\n",
      "Data columns (total 3 columns):\n",
      " #   Column    Non-Null Count  Dtype  \n",
      "---  ------    --------------  -----  \n",
      " 0   n.prod    25 non-null     int64  \n",
      " 1   distance  25 non-null     int64  \n",
      " 2   delTime   25 non-null     float64\n",
      "dtypes: float64(1), int64(2)\n",
      "memory usage: 728.0 bytes\n"
     ]
    }
   ],
   "source": [
    "'''The delivery dataset is a data frame with 25 observations on the following 3 variables.\n",
    "\n",
    "n.prod: Number of products stocked in a vending machine.\n",
    "\n",
    "distance: Distance traversed by the driver mechanism of the vending machine to deliver a soft drink.\n",
    "\n",
    "delTime: Time required to deliver the soft drink.'''\n",
    "\n",
    "delivery.info()"
   ]
  },
  {
   "cell_type": "markdown",
   "id": "b0e1926c",
   "metadata": {},
   "source": [
    "### Expected delTime = β0 + β1*(n.prod)+β2*(distance)+ε"
   ]
  },
  {
   "cell_type": "code",
   "execution_count": 5,
   "id": "464560fe",
   "metadata": {},
   "outputs": [
    {
     "data": {
      "text/plain": [
       "<seaborn.axisgrid.PairGrid at 0x1cc1a55fb80>"
      ]
     },
     "execution_count": 5,
     "metadata": {},
     "output_type": "execute_result"
    },
    {
     "data": {
      "image/png": "[encoded data removed]",
      "text/plain": [
       "<Figure size 540x540 with 12 Axes>"
      ]
     },
     "metadata": {
      "needs_background": "light"
     },
     "output_type": "display_data"
    }
   ],
   "source": [
    "# Visualizing data\n",
    "sns.pairplot(delivery)\n"
   ]
  },
  {
   "cell_type": "markdown",
   "id": "27b86f1f",
   "metadata": {},
   "source": [
    "### Building a Multiple Linear Regression model\n"
   ]
  },
  {
   "cell_type": "code",
   "execution_count": 6,
   "id": "0e5579c1",
   "metadata": {},
   "outputs": [
    {
     "name": "stdout",
     "output_type": "stream",
     "text": [
      "Intercept: 2.3412311451921965 \n",
      "Coefficients: [1.61590721 0.01438483]\n"
     ]
    }
   ],
   "source": [
    "# importing the required module to build the model\n",
    "from sklearn.linear_model import LinearRegression\n",
    "\n",
    "# Instantiating the algorithm for building the model\n",
    "model = LinearRegression()\n",
    "\n",
    "# selecting the predictors and targets\n",
    "X = delivery[[\"n.prod\",\"distance\"]]\n",
    "y = delivery[\"delTime\"]\n",
    "\n",
    "# building the model using fit() method\n",
    "model.fit(X,y)\n",
    "\n",
    "print(\"Intercept:\",model.intercept_ ,\"\\nCoefficients:\",model.coef_)\n",
    "# Sample output for the above code\n",
    "# Intercept: 2.3412311451922 \n",
    "# Coefficients: [1.61590721 0.01438483]\n"
   ]
  },
  {
   "cell_type": "markdown",
   "id": "00386403",
   "metadata": {},
   "source": [
    "##### And the best fit model to predict the delivery time based on n.prod and distance can be expressed as shown below.\n",
    "\n",
    "### Expected delTime = β0 + β1*(n.prod)+β2*(distance)+ε\n",
    "### Expected delTime = 2.341231 + 1.61590721*(n.prod)+0.01438483*(distance)+ε"
   ]
  },
  {
   "cell_type": "markdown",
   "id": "6abb65a3",
   "metadata": {},
   "source": [
    "#### Visualizing Multiple Linear Regression model"
   ]
  },
  {
   "cell_type": "code",
   "execution_count": 7,
   "id": "79a6d961",
   "metadata": {},
   "outputs": [
    {
     "data": {
      "text/plain": [
       "<mpl_toolkits.mplot3d.art3d.Poly3DCollection at 0x1cc50343ee0>"
      ]
     },
     "execution_count": 7,
     "metadata": {},
     "output_type": "execute_result"
    },
    {
     "data": {
      "image/png": "[encoded data removed]",
      "text/plain": [
       "<Figure size 504x504 with 1 Axes>"
      ]
     },
     "metadata": {
      "needs_background": "light"
     },
     "output_type": "display_data"
    }
   ],
   "source": [
    "#Setting up the plot area\n",
    "fig = plt.figure(figsize=(7,7))\n",
    "ax = fig.add_subplot(111,projection='3d') #projection = '3d' is used to have 3D axes\n",
    "\n",
    "#3d scatterplot of the delivery dataset\n",
    "ax.scatter(xs = delivery[\"n.prod\"], ys = delivery[\"distance\"], zs=delivery[\"delTime\"],c='blue',alpha=1,marker='o')\n",
    "ax.set_xlabel(\"n.prod\")\n",
    "ax.set_ylabel(\"distance\")\n",
    "ax.set_zlabel(\"delTime\")\n",
    "\n",
    "#Creating a mesh of x and y values to plot the regression plane\n",
    "x_surf = np.arange(delivery[\"n.prod\"].min(), delivery[\"n.prod\"].max(), 1) \n",
    "y_surf = np.arange(delivery[\"distance\"].min(), delivery[\"distance\"].max(), 1)\n",
    "x_surf, y_surf = np.meshgrid(x_surf, y_surf)\n",
    "X_mesh = pd.core.frame.DataFrame({'n.prod': x_surf.ravel(), 'distance': y_surf.ravel()})\n",
    "\n",
    "#Predicting the output of model for every point in the mesh\n",
    "out = model.predict(X_mesh)\n",
    "\n",
    "#Plotting the regression plane\n",
    "ax.plot_surface(x_surf, y_surf,out.reshape(x_surf.shape),alpha = 0.4) # apha => transparency of the surface\n",
    "\n"
   ]
  },
  {
   "cell_type": "markdown",
   "id": "a88836d5",
   "metadata": {},
   "source": [
    "### Linear independence of predictors for delivery time dataset"
   ]
  },
  {
   "cell_type": "code",
   "execution_count": 8,
   "id": "6f035162",
   "metadata": {},
   "outputs": [
    {
     "data": {
      "text/plain": [
       "array([[1.      , 0.824215],\n",
       "       [0.824215, 1.      ]])"
      ]
     },
     "execution_count": 8,
     "metadata": {},
     "output_type": "execute_result"
    }
   ],
   "source": [
    "# finding the correlation\n",
    "correlationValue=np.corrcoef(delivery[\"n.prod\"],delivery[\"distance\"])\n",
    "# correlation value derived - 0.824215\n",
    "\n",
    "correlationValue\n"
   ]
  },
  {
   "cell_type": "code",
   "execution_count": 9,
   "id": "1ba4931f",
   "metadata": {},
   "outputs": [
    {
     "name": "stdout",
     "output_type": "stream",
     "text": [
      "n.prod      7.848245\n",
      "distance    7.848245\n",
      "dtype: float64\n"
     ]
    }
   ],
   "source": [
    "\n",
    "from statsmodels.stats.outliers_influence import variance_inflation_factor\n",
    "#calculating the VIF for each attributes\n",
    "vif = pd.Series([variance_inflation_factor(X.values,idx) \n",
    "           for idx in range(X.shape[1])],\n",
    "          index=X.columns)\n",
    "print(vif)\n"
   ]
  },
  {
   "cell_type": "markdown",
   "id": "e9892fa1",
   "metadata": {},
   "source": [
    "##### It is observed that the VIF values are greater than 5 for both n.prod and distance features. Also both the features are exhibiting a high correlation value between them"
   ]
  },
  {
   "cell_type": "markdown",
   "id": "944ace9b",
   "metadata": {},
   "source": [
    "### Coefficient of Determination\n"
   ]
  },
  {
   "cell_type": "code",
   "execution_count": 10,
   "id": "86aaafeb",
   "metadata": {},
   "outputs": [
    {
     "data": {
      "text/plain": [
       "0.9595937494832257"
      ]
     },
     "execution_count": 10,
     "metadata": {},
     "output_type": "execute_result"
    }
   ],
   "source": [
    "# score() method for regression model, returns the 'coefficient of determination' (r^2) value for the model\n",
    "model.score(X,y)\n",
    "# sample model score as output\n",
    "#0.9595937494832257\n"
   ]
  },
  {
   "cell_type": "markdown",
   "id": "bd906c66",
   "metadata": {},
   "source": [
    "##### It is observed that the R2 value for the obtained best fit linear regression model is approximately 0.9595937. The R2 value in this case indicates that approximately 95.95 % of the variability observed in the delTime of the vending machine can be explained by variability in the predictor variables, n.prod and distance.\n",
    "\n",
    "##### You must be able to recall that the values of R2 ranges between 0 and 1 in Simple Linear Regression. The higher the value of R2 (close to 1), the model is considered as useful."
   ]
  },
  {
   "cell_type": "markdown",
   "id": "230b9fdd",
   "metadata": {},
   "source": [
    "### Adjusted R-squared\n"
   ]
  },
  {
   "cell_type": "markdown",
   "id": "19c3aea1",
   "metadata": {},
   "source": [
    "##### The below code illustrates the increase in the R2 for an additional predictor that is included in the model.\n",
    "##### Thus, the use of an additional statistic known as adjusted R2 is suggested. The adjusted R2 takes into account the number of predictor variables and the number of samples or observations included in the Regression model."
   ]
  },
  {
   "cell_type": "code",
   "execution_count": 11,
   "id": "5d5cfa84",
   "metadata": {},
   "outputs": [
    {
     "name": "stdout",
     "output_type": "stream",
     "text": [
      "0.9304813135986855\n",
      "0.9595937494832257\n"
     ]
    }
   ],
   "source": [
    "# Model with a single predictor - n.prod\n",
    "model1 = LinearRegression()\n",
    "features = [\"n.prod\"]\n",
    "target = [\"delTime\"]\n",
    "model1.fit(delivery[features],delivery[target])\n",
    "print(model1.score(delivery[features],delivery[target]))\n",
    "#sample model1 score\n",
    "#0.9304813135986855\n",
    "# Model with multiple predictors - n.prod,distance\n",
    "\n",
    "model2 = LinearRegression()\n",
    "features = [\"n.prod\",\"distance\"]\n",
    "target = [\"delTime\"]\n",
    "model2.fit(delivery[features],delivery[target])\n",
    "print(model2.score(delivery[features],delivery[target]))\n",
    "#sample model2 score\n",
    "#0.9595937494832257\n"
   ]
  },
  {
   "cell_type": "markdown",
   "id": "865613cc",
   "metadata": {},
   "source": [
    "##### The adjusted R2 for the obtained best fit model for the delivery time dataset is shown below. Higher the value of Adjusted R2, better is the model.  "
   ]
  },
  {
   "cell_type": "code",
   "execution_count": 12,
   "id": "24fa3d38",
   "metadata": {},
   "outputs": [
    {
     "name": "stdout",
     "output_type": "stream",
     "text": [
      "0.9559204539817008\n"
     ]
    }
   ],
   "source": [
    "#computation of adjusted R-squared\n",
    "X = delivery[features]\n",
    "y = delivery[target]\n",
    "adjusted_rscore = 1 - (1-model2.score(X, y))*(len(y)-1)/(len(y)-X.shape[1]-1)\n",
    "print(adjusted_rscore)\n",
    "#sample adjusted R-Squared\n",
    "#0.9559204539817008\n"
   ]
  },
  {
   "cell_type": "code",
   "execution_count": 24,
   "id": "ef310777",
   "metadata": {},
   "outputs": [
    {
     "data": {
      "text/plain": [
       "2.3412311451921965"
      ]
     },
     "execution_count": 24,
     "metadata": {},
     "output_type": "execute_result"
    }
   ],
   "source": [
    "c=model2.intercept_\n",
    "c[0]"
   ]
  },
  {
   "cell_type": "code",
   "execution_count": 26,
   "id": "5a3dd21d",
   "metadata": {},
   "outputs": [
    {
     "data": {
      "text/plain": [
       "array([[1.61590721, 0.01438483]])"
      ]
     },
     "execution_count": 26,
     "metadata": {},
     "output_type": "execute_result"
    }
   ],
   "source": [
    "mArray=model2.coef_\n",
    "mArray"
   ]
  },
  {
   "cell_type": "code",
   "execution_count": 35,
   "id": "670ebf7e",
   "metadata": {},
   "outputs": [
    {
     "data": {
      "text/html": [
       "<div>\n",
       "<style scoped>\n",
       "    .dataframe tbody tr th:only-of-type {\n",
       "        vertical-align: middle;\n",
       "    }\n",
       "\n",
       "    .dataframe tbody tr th {\n",
       "        vertical-align: top;\n",
       "    }\n",
       "\n",
       "    .dataframe thead th {\n",
       "        text-align: right;\n",
       "    }\n",
       "</style>\n",
       "<table border=\"1\" class=\"dataframe\">\n",
       "  <thead>\n",
       "    <tr style=\"text-align: right;\">\n",
       "      <th></th>\n",
       "      <th>n.prod</th>\n",
       "      <th>distance</th>\n",
       "      <th>delTime</th>\n",
       "      <th>bestFit</th>\n",
       "    </tr>\n",
       "  </thead>\n",
       "  <tbody>\n",
       "    <tr>\n",
       "      <th>0</th>\n",
       "      <td>7</td>\n",
       "      <td>560</td>\n",
       "      <td>16.68</td>\n",
       "      <td>21.708084</td>\n",
       "    </tr>\n",
       "    <tr>\n",
       "      <th>1</th>\n",
       "      <td>3</td>\n",
       "      <td>220</td>\n",
       "      <td>11.50</td>\n",
       "      <td>10.353615</td>\n",
       "    </tr>\n",
       "    <tr>\n",
       "      <th>2</th>\n",
       "      <td>3</td>\n",
       "      <td>340</td>\n",
       "      <td>12.03</td>\n",
       "      <td>12.079794</td>\n",
       "    </tr>\n",
       "    <tr>\n",
       "      <th>3</th>\n",
       "      <td>4</td>\n",
       "      <td>80</td>\n",
       "      <td>14.88</td>\n",
       "      <td>9.955646</td>\n",
       "    </tr>\n",
       "    <tr>\n",
       "      <th>4</th>\n",
       "      <td>6</td>\n",
       "      <td>150</td>\n",
       "      <td>13.75</td>\n",
       "      <td>14.194398</td>\n",
       "    </tr>\n",
       "    <tr>\n",
       "      <th>5</th>\n",
       "      <td>7</td>\n",
       "      <td>330</td>\n",
       "      <td>18.11</td>\n",
       "      <td>18.399574</td>\n",
       "    </tr>\n",
       "    <tr>\n",
       "      <th>6</th>\n",
       "      <td>2</td>\n",
       "      <td>110</td>\n",
       "      <td>8.00</td>\n",
       "      <td>7.155376</td>\n",
       "    </tr>\n",
       "    <tr>\n",
       "      <th>7</th>\n",
       "      <td>7</td>\n",
       "      <td>210</td>\n",
       "      <td>17.83</td>\n",
       "      <td>16.673395</td>\n",
       "    </tr>\n",
       "    <tr>\n",
       "      <th>8</th>\n",
       "      <td>30</td>\n",
       "      <td>1460</td>\n",
       "      <td>79.24</td>\n",
       "      <td>71.820294</td>\n",
       "    </tr>\n",
       "    <tr>\n",
       "      <th>9</th>\n",
       "      <td>5</td>\n",
       "      <td>605</td>\n",
       "      <td>21.50</td>\n",
       "      <td>19.123587</td>\n",
       "    </tr>\n",
       "    <tr>\n",
       "      <th>10</th>\n",
       "      <td>16</td>\n",
       "      <td>688</td>\n",
       "      <td>40.33</td>\n",
       "      <td>38.092507</td>\n",
       "    </tr>\n",
       "    <tr>\n",
       "      <th>11</th>\n",
       "      <td>10</td>\n",
       "      <td>215</td>\n",
       "      <td>21.00</td>\n",
       "      <td>21.593041</td>\n",
       "    </tr>\n",
       "    <tr>\n",
       "      <th>12</th>\n",
       "      <td>4</td>\n",
       "      <td>255</td>\n",
       "      <td>13.50</td>\n",
       "      <td>12.472991</td>\n",
       "    </tr>\n",
       "    <tr>\n",
       "      <th>13</th>\n",
       "      <td>6</td>\n",
       "      <td>462</td>\n",
       "      <td>19.75</td>\n",
       "      <td>18.682464</td>\n",
       "    </tr>\n",
       "    <tr>\n",
       "      <th>14</th>\n",
       "      <td>9</td>\n",
       "      <td>448</td>\n",
       "      <td>24.00</td>\n",
       "      <td>23.328798</td>\n",
       "    </tr>\n",
       "    <tr>\n",
       "      <th>15</th>\n",
       "      <td>10</td>\n",
       "      <td>776</td>\n",
       "      <td>29.00</td>\n",
       "      <td>29.662928</td>\n",
       "    </tr>\n",
       "    <tr>\n",
       "      <th>16</th>\n",
       "      <td>6</td>\n",
       "      <td>200</td>\n",
       "      <td>15.35</td>\n",
       "      <td>14.913640</td>\n",
       "    </tr>\n",
       "    <tr>\n",
       "      <th>17</th>\n",
       "      <td>7</td>\n",
       "      <td>132</td>\n",
       "      <td>19.00</td>\n",
       "      <td>15.551379</td>\n",
       "    </tr>\n",
       "    <tr>\n",
       "      <th>18</th>\n",
       "      <td>3</td>\n",
       "      <td>36</td>\n",
       "      <td>9.50</td>\n",
       "      <td>7.706807</td>\n",
       "    </tr>\n",
       "    <tr>\n",
       "      <th>19</th>\n",
       "      <td>17</td>\n",
       "      <td>770</td>\n",
       "      <td>35.10</td>\n",
       "      <td>40.887970</td>\n",
       "    </tr>\n",
       "    <tr>\n",
       "      <th>20</th>\n",
       "      <td>10</td>\n",
       "      <td>140</td>\n",
       "      <td>17.90</td>\n",
       "      <td>20.514179</td>\n",
       "    </tr>\n",
       "    <tr>\n",
       "      <th>21</th>\n",
       "      <td>26</td>\n",
       "      <td>810</td>\n",
       "      <td>52.32</td>\n",
       "      <td>56.006528</td>\n",
       "    </tr>\n",
       "    <tr>\n",
       "      <th>22</th>\n",
       "      <td>9</td>\n",
       "      <td>450</td>\n",
       "      <td>18.75</td>\n",
       "      <td>23.357568</td>\n",
       "    </tr>\n",
       "    <tr>\n",
       "      <th>23</th>\n",
       "      <td>8</td>\n",
       "      <td>635</td>\n",
       "      <td>19.83</td>\n",
       "      <td>24.402854</td>\n",
       "    </tr>\n",
       "    <tr>\n",
       "      <th>24</th>\n",
       "      <td>4</td>\n",
       "      <td>150</td>\n",
       "      <td>10.75</td>\n",
       "      <td>10.962584</td>\n",
       "    </tr>\n",
       "  </tbody>\n",
       "</table>\n",
       "</div>"
      ],
      "text/plain": [
       "    n.prod  distance  delTime    bestFit\n",
       "0        7       560    16.68  21.708084\n",
       "1        3       220    11.50  10.353615\n",
       "2        3       340    12.03  12.079794\n",
       "3        4        80    14.88   9.955646\n",
       "4        6       150    13.75  14.194398\n",
       "5        7       330    18.11  18.399574\n",
       "6        2       110     8.00   7.155376\n",
       "7        7       210    17.83  16.673395\n",
       "8       30      1460    79.24  71.820294\n",
       "9        5       605    21.50  19.123587\n",
       "10      16       688    40.33  38.092507\n",
       "11      10       215    21.00  21.593041\n",
       "12       4       255    13.50  12.472991\n",
       "13       6       462    19.75  18.682464\n",
       "14       9       448    24.00  23.328798\n",
       "15      10       776    29.00  29.662928\n",
       "16       6       200    15.35  14.913640\n",
       "17       7       132    19.00  15.551379\n",
       "18       3        36     9.50   7.706807\n",
       "19      17       770    35.10  40.887970\n",
       "20      10       140    17.90  20.514179\n",
       "21      26       810    52.32  56.006528\n",
       "22       9       450    18.75  23.357568\n",
       "23       8       635    19.83  24.402854\n",
       "24       4       150    10.75  10.962584"
      ]
     },
     "execution_count": 35,
     "metadata": {},
     "output_type": "execute_result"
    }
   ],
   "source": [
    "mArray[0][0]\n",
    "bestfit=c[0]+mArray[0][0]*(delivery['n.prod'])+mArray[0][1]*(delivery['distance'])\n",
    "delivery['bestFit']=bestfit\n",
    "delivery[['n.prod','distance','delTime','bestFit']]"
   ]
  },
  {
   "cell_type": "code",
   "execution_count": 22,
   "id": "d287b43d",
   "metadata": {},
   "outputs": [
    {
     "data": {
      "text/plain": [
       "'distance'"
      ]
     },
     "execution_count": 22,
     "metadata": {},
     "output_type": "execute_result"
    }
   ],
   "source": [
    "features[1]"
   ]
  },
  {
   "cell_type": "code",
   "execution_count": null,
   "id": "86a5d204",
   "metadata": {},
   "outputs": [],
   "source": []
  }
 ],
 "metadata": {
  "kernelspec": {
   "display_name": "Python 3",
   "language": "python",
   "name": "python3"
  },
  "language_info": {
   "codemirror_mode": {
    "name": "ipython",
    "version": 3
   },
   "file_extension": ".py",
   "mimetype": "text/x-python",
   "name": "python",
   "nbconvert_exporter": "python",
   "pygments_lexer": "ipython3",
   "version": "3.8.8"
  }
 },
 "nbformat": 4,
 "nbformat_minor": 5
}
