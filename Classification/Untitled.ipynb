{
 "cells": [
  {
   "cell_type": "markdown",
   "id": "c1faeb78",
   "metadata": {},
   "source": [
    "### SVM \n",
    "\n",
    "\n"
   ]
  },
  {
   "cell_type": "code",
   "execution_count": 2,
   "id": "cffafe5e",
   "metadata": {},
   "outputs": [],
   "source": [
    "import numpy as np\n",
    "import pandas as pd\n",
    "import seaborn as sns\n",
    "import matplotlib.pyplot as plt\n",
    "%matplotlib inline\n",
    "\n",
    "import warnings\n",
    "warnings.filterwarnings('ignore')"
   ]
  },
  {
   "cell_type": "markdown",
   "id": "c16ca119",
   "metadata": {},
   "source": [
    "#### 1-Reading dataset"
   ]
  },
  {
   "cell_type": "code",
   "execution_count": 3,
   "id": "90bd1a62",
   "metadata": {},
   "outputs": [
    {
     "data": {
      "text/html": [
       "<div>\n",
       "<style scoped>\n",
       "    .dataframe tbody tr th:only-of-type {\n",
       "        vertical-align: middle;\n",
       "    }\n",
       "\n",
       "    .dataframe tbody tr th {\n",
       "        vertical-align: top;\n",
       "    }\n",
       "\n",
       "    .dataframe thead th {\n",
       "        text-align: right;\n",
       "    }\n",
       "</style>\n",
       "<table border=\"1\" class=\"dataframe\">\n",
       "  <thead>\n",
       "    <tr style=\"text-align: right;\">\n",
       "      <th></th>\n",
       "      <th>Sepal.Length</th>\n",
       "      <th>Sepal.Width</th>\n",
       "      <th>Petal.Length</th>\n",
       "      <th>Petal.Width</th>\n",
       "      <th>Species</th>\n",
       "    </tr>\n",
       "  </thead>\n",
       "  <tbody>\n",
       "    <tr>\n",
       "      <th>0</th>\n",
       "      <td>5.1</td>\n",
       "      <td>3.5</td>\n",
       "      <td>1.4</td>\n",
       "      <td>0.2</td>\n",
       "      <td>setosa</td>\n",
       "    </tr>\n",
       "    <tr>\n",
       "      <th>1</th>\n",
       "      <td>4.9</td>\n",
       "      <td>3.0</td>\n",
       "      <td>1.4</td>\n",
       "      <td>0.2</td>\n",
       "      <td>setosa</td>\n",
       "    </tr>\n",
       "    <tr>\n",
       "      <th>2</th>\n",
       "      <td>4.7</td>\n",
       "      <td>3.2</td>\n",
       "      <td>1.3</td>\n",
       "      <td>0.2</td>\n",
       "      <td>setosa</td>\n",
       "    </tr>\n",
       "    <tr>\n",
       "      <th>3</th>\n",
       "      <td>4.6</td>\n",
       "      <td>3.1</td>\n",
       "      <td>1.5</td>\n",
       "      <td>0.2</td>\n",
       "      <td>setosa</td>\n",
       "    </tr>\n",
       "    <tr>\n",
       "      <th>4</th>\n",
       "      <td>5.0</td>\n",
       "      <td>3.6</td>\n",
       "      <td>1.4</td>\n",
       "      <td>0.2</td>\n",
       "      <td>setosa</td>\n",
       "    </tr>\n",
       "  </tbody>\n",
       "</table>\n",
       "</div>"
      ],
      "text/plain": [
       "   Sepal.Length  Sepal.Width  Petal.Length  Petal.Width Species\n",
       "0           5.1          3.5           1.4          0.2  setosa\n",
       "1           4.9          3.0           1.4          0.2  setosa\n",
       "2           4.7          3.2           1.3          0.2  setosa\n",
       "3           4.6          3.1           1.5          0.2  setosa\n",
       "4           5.0          3.6           1.4          0.2  setosa"
      ]
     },
     "execution_count": 3,
     "metadata": {},
     "output_type": "execute_result"
    }
   ],
   "source": [
    "#reading input from csv file\n",
    "iris_data = pd.read_csv(\"../ClassificationDataset/iris.csv\")\n",
    "iris_data.head()\n"
   ]
  },
  {
   "cell_type": "markdown",
   "id": "e7e088b5",
   "metadata": {},
   "source": [
    "#### Feature Engineering\n",
    "\n",
    "Create a new column in the dataframe (v_nv), that distinguishes the species - 'versicolor'(marked by 0) from rest. Then, build binary classifier based on this new column."
   ]
  },
  {
   "cell_type": "code",
   "execution_count": 4,
   "id": "28b26e88",
   "metadata": {},
   "outputs": [
    {
     "data": {
      "text/html": [
       "<div>\n",
       "<style scoped>\n",
       "    .dataframe tbody tr th:only-of-type {\n",
       "        vertical-align: middle;\n",
       "    }\n",
       "\n",
       "    .dataframe tbody tr th {\n",
       "        vertical-align: top;\n",
       "    }\n",
       "\n",
       "    .dataframe thead th {\n",
       "        text-align: right;\n",
       "    }\n",
       "</style>\n",
       "<table border=\"1\" class=\"dataframe\">\n",
       "  <thead>\n",
       "    <tr style=\"text-align: right;\">\n",
       "      <th></th>\n",
       "      <th>Sepal.Length</th>\n",
       "      <th>Sepal.Width</th>\n",
       "      <th>Petal.Length</th>\n",
       "      <th>Petal.Width</th>\n",
       "      <th>Species</th>\n",
       "      <th>v_nv</th>\n",
       "    </tr>\n",
       "  </thead>\n",
       "  <tbody>\n",
       "    <tr>\n",
       "      <th>50</th>\n",
       "      <td>7.0</td>\n",
       "      <td>3.2</td>\n",
       "      <td>4.7</td>\n",
       "      <td>1.4</td>\n",
       "      <td>versicolor</td>\n",
       "      <td>0</td>\n",
       "    </tr>\n",
       "    <tr>\n",
       "      <th>51</th>\n",
       "      <td>6.4</td>\n",
       "      <td>3.2</td>\n",
       "      <td>4.5</td>\n",
       "      <td>1.5</td>\n",
       "      <td>versicolor</td>\n",
       "      <td>0</td>\n",
       "    </tr>\n",
       "    <tr>\n",
       "      <th>52</th>\n",
       "      <td>6.9</td>\n",
       "      <td>3.1</td>\n",
       "      <td>4.9</td>\n",
       "      <td>1.5</td>\n",
       "      <td>versicolor</td>\n",
       "      <td>0</td>\n",
       "    </tr>\n",
       "    <tr>\n",
       "      <th>53</th>\n",
       "      <td>5.5</td>\n",
       "      <td>2.3</td>\n",
       "      <td>4.0</td>\n",
       "      <td>1.3</td>\n",
       "      <td>versicolor</td>\n",
       "      <td>0</td>\n",
       "    </tr>\n",
       "    <tr>\n",
       "      <th>54</th>\n",
       "      <td>6.5</td>\n",
       "      <td>2.8</td>\n",
       "      <td>4.6</td>\n",
       "      <td>1.5</td>\n",
       "      <td>versicolor</td>\n",
       "      <td>0</td>\n",
       "    </tr>\n",
       "  </tbody>\n",
       "</table>\n",
       "</div>"
      ],
      "text/plain": [
       "    Sepal.Length  Sepal.Width  Petal.Length  Petal.Width     Species  v_nv\n",
       "50           7.0          3.2           4.7          1.4  versicolor     0\n",
       "51           6.4          3.2           4.5          1.5  versicolor     0\n",
       "52           6.9          3.1           4.9          1.5  versicolor     0\n",
       "53           5.5          2.3           4.0          1.3  versicolor     0\n",
       "54           6.5          2.8           4.6          1.5  versicolor     0"
      ]
     },
     "execution_count": 4,
     "metadata": {},
     "output_type": "execute_result"
    }
   ],
   "source": [
    "#creating new column 'v_nv', to distinguish versicolor species from rest\n",
    "#the below lambda function returns 0 for 'versicolor' species and returns 1 for rest.\n",
    "v_nv_fn = lambda x: 0 if x==\"versicolor\" else 1\n",
    "\n",
    "# new column added into dataframe\n",
    "iris_data[\"v_nv\"] = iris_data[\"Species\"].apply(v_nv_fn)\n",
    "iris_data[iris_data['v_nv']==0].head()\n"
   ]
  },
  {
   "cell_type": "markdown",
   "id": "77e909e3",
   "metadata": {},
   "source": [
    "#### Visualization"
   ]
  },
  {
   "cell_type": "code",
   "execution_count": 6,
   "id": "b84a0cf7",
   "metadata": {},
   "outputs": [
    {
     "data": {
      "text/plain": [
       "<seaborn.axisgrid.PairGrid at 0x1fd0a423b80>"
      ]
     },
     "execution_count": 6,
     "metadata": {},
     "output_type": "execute_result"
    },
    {
     "data": {
      "image/png": "[encoded data removed]",
      "text/plain": [
       "<Figure size 402.375x360 with 1 Axes>"
      ]
     },
     "metadata": {
      "needs_background": "light"
     },
     "output_type": "display_data"
    }
   ],
   "source": [
    "#visualization using seaborn - pairplot\n",
    "import seaborn as sns\n",
    "sns.pairplot(iris_data,\n",
    "             x_vars = \"Petal.Length\",y_vars=\"Petal.Width\",\n",
    "             hue=\"v_nv\",height=5)\n"
   ]
  },
  {
   "cell_type": "markdown",
   "id": "a777b00b",
   "metadata": {},
   "source": [
    "In the above plot, you can find the separating hyperplane to classify data as versicolor and non-versicolor. You can observe that the data is not linearly separable i.e, it cannot be separated using a straight line. "
   ]
  },
  {
   "cell_type": "markdown",
   "id": "adf73e09",
   "metadata": {},
   "source": [
    "### Model Creation \n",
    "\n",
    "Now let us build a model based on Support Vector Classification, to predict if a data instance is of the species 'versicolor'."
   ]
  },
  {
   "cell_type": "code",
   "execution_count": 7,
   "id": "055605b9",
   "metadata": {},
   "outputs": [
    {
     "data": {
      "text/plain": [
       "0.9533333333333334"
      ]
     },
     "execution_count": 7,
     "metadata": {},
     "output_type": "execute_result"
    }
   ],
   "source": [
    "#Support Vector Classification\n",
    "from sklearn.svm import SVC\n",
    "\n",
    "#setting predictors and target\n",
    "X = iris_data[[\"Petal.Length\",\"Petal.Width\"]]\n",
    "Y = iris_data[\"v_nv\"]\n",
    "\n",
    "# model building\n",
    "model = SVC()\n",
    "model.fit(X,Y)\n",
    "model.score(X,Y)\n",
    "# 0.9533333333333334\n"
   ]
  },
  {
   "cell_type": "markdown",
   "id": "e183bb68",
   "metadata": {},
   "source": [
    "Model Visualization\n",
    "\n",
    "A separating hyperplane that divides the iris dataset into versicolor and non-versicolor categories, looks as shown below.\n",
    "\n",
    "Note:'mlxtend' is another machine learning library and provides various useful tools for data science applications.\n",
    "\n",
    "Here, plot_decision_regions() function of mlxtend library is used for plotting the decision regions. "
   ]
  },
  {
   "cell_type": "code",
   "execution_count": 17,
   "id": "8b3c5aaa",
   "metadata": {},
   "outputs": [],
   "source": [
    "#!pip install mlxtend"
   ]
  },
  {
   "cell_type": "code",
   "execution_count": 10,
   "id": "e302dca5",
   "metadata": {},
   "outputs": [
    {
     "data": {
      "text/plain": [
       "Text(0.5, 1.0, 'Decision boundary of SVM on iris data')"
      ]
     },
     "execution_count": 10,
     "metadata": {},
     "output_type": "execute_result"
    },
    {
     "data": {
      "image/png": "[encoded data removed]",
      "text/plain": [
       "<Figure size 432x288 with 1 Axes>"
      ]
     },
     "metadata": {
      "needs_background": "light"
     },
     "output_type": "display_data"
    }
   ],
   "source": [
    "from mlxtend.plotting import plot_decision_regions\n",
    "\n",
    "features = np.array(X)\n",
    "target = np.array(Y).ravel()\n",
    "plot_decision_regions(features,target,clf=model)\n",
    "plt.xlabel(\"Petal length\")\n",
    "plt.ylabel(\"Petal width\")\n",
    "plt.title('Decision boundary of SVM on iris data')\n"
   ]
  },
  {
   "cell_type": "markdown",
   "id": "fb07c6a2",
   "metadata": {},
   "source": [
    "### Multi-class classification \n",
    "Further, even though SVM is considered as a binary classifier, it can be used for multi-class classification as well. This is achieved in one of the 2 ways:\n",
    "\n",
    "One-vs-One classification: It builds a binary classification model for each pair of classes. Thus, there will be n * (n-1) / 2 models, where n is the number of classes. So, if there are 3 classes (as in our case), then (3*2)/2=3 models are used.\n",
    "\n",
    "One-vs-All classification: It compares every class with the remaining classes thereby building a model for every class. The class with the highest probability is chosen. So, if there are 3 classes (in our case) then 3 models are used.\n",
    "\n",
    "The below demo shows the classification of Iris dataset using SVM for multiple classes – setosa, versicolor and virginica.\n",
    "\n",
    "Feature Engineering\n",
    "\n",
    "You can encode the species column with numerical values. And replace label 'setosa' with '0', 'versicolor' with '1' and 'virginica' with '2'. This encoding technique, of converting distinct values of column into unique numbers is called 'label encoding'."
   ]
  },
  {
   "cell_type": "code",
   "execution_count": 11,
   "id": "7b4a4f39",
   "metadata": {},
   "outputs": [
    {
     "data": {
      "text/html": [
       "<div>\n",
       "<style scoped>\n",
       "    .dataframe tbody tr th:only-of-type {\n",
       "        vertical-align: middle;\n",
       "    }\n",
       "\n",
       "    .dataframe tbody tr th {\n",
       "        vertical-align: top;\n",
       "    }\n",
       "\n",
       "    .dataframe thead th {\n",
       "        text-align: right;\n",
       "    }\n",
       "</style>\n",
       "<table border=\"1\" class=\"dataframe\">\n",
       "  <thead>\n",
       "    <tr style=\"text-align: right;\">\n",
       "      <th></th>\n",
       "      <th>Sepal.Length</th>\n",
       "      <th>Sepal.Width</th>\n",
       "      <th>Petal.Length</th>\n",
       "      <th>Petal.Width</th>\n",
       "      <th>Species</th>\n",
       "      <th>v_nv</th>\n",
       "    </tr>\n",
       "  </thead>\n",
       "  <tbody>\n",
       "    <tr>\n",
       "      <th>0</th>\n",
       "      <td>5.1</td>\n",
       "      <td>3.5</td>\n",
       "      <td>1.4</td>\n",
       "      <td>0.2</td>\n",
       "      <td>0</td>\n",
       "      <td>1</td>\n",
       "    </tr>\n",
       "    <tr>\n",
       "      <th>1</th>\n",
       "      <td>4.9</td>\n",
       "      <td>3.0</td>\n",
       "      <td>1.4</td>\n",
       "      <td>0.2</td>\n",
       "      <td>0</td>\n",
       "      <td>1</td>\n",
       "    </tr>\n",
       "    <tr>\n",
       "      <th>2</th>\n",
       "      <td>4.7</td>\n",
       "      <td>3.2</td>\n",
       "      <td>1.3</td>\n",
       "      <td>0.2</td>\n",
       "      <td>0</td>\n",
       "      <td>1</td>\n",
       "    </tr>\n",
       "    <tr>\n",
       "      <th>3</th>\n",
       "      <td>4.6</td>\n",
       "      <td>3.1</td>\n",
       "      <td>1.5</td>\n",
       "      <td>0.2</td>\n",
       "      <td>0</td>\n",
       "      <td>1</td>\n",
       "    </tr>\n",
       "    <tr>\n",
       "      <th>4</th>\n",
       "      <td>5.0</td>\n",
       "      <td>3.6</td>\n",
       "      <td>1.4</td>\n",
       "      <td>0.2</td>\n",
       "      <td>0</td>\n",
       "      <td>1</td>\n",
       "    </tr>\n",
       "  </tbody>\n",
       "</table>\n",
       "</div>"
      ],
      "text/plain": [
       "   Sepal.Length  Sepal.Width  Petal.Length  Petal.Width Species  v_nv\n",
       "0           5.1          3.5           1.4          0.2       0     1\n",
       "1           4.9          3.0           1.4          0.2       0     1\n",
       "2           4.7          3.2           1.3          0.2       0     1\n",
       "3           4.6          3.1           1.5          0.2       0     1\n",
       "4           5.0          3.6           1.4          0.2       0     1"
      ]
     },
     "execution_count": 11,
     "metadata": {},
     "output_type": "execute_result"
    }
   ],
   "source": [
    "# encoding the species column\n",
    "iris_data.loc[iris_data.Species==\"setosa\",\"Species\"] = 0\n",
    "iris_data.loc[iris_data.Species==\"versicolor\",\"Species\"] = 1\n",
    "iris_data.loc[iris_data.Species==\"virginica\",\"Species\"] = 2\n",
    "\n",
    "#data type (dtype) of the column will be converted to 'category'\n",
    "iris_data.Species = iris_data.Species.astype(\"category\") \n",
    "                           #https://pandas.pydata.org/pandas-docs/stable/user_guide/categorical.html\n",
    "iris_data.head()\n"
   ]
  },
  {
   "cell_type": "markdown",
   "id": "25d749b4",
   "metadata": {},
   "source": [
    "#### Multiclass Model Building using SVM"
   ]
  },
  {
   "cell_type": "code",
   "execution_count": 13,
   "id": "3a18b1cb",
   "metadata": {},
   "outputs": [
    {
     "data": {
      "text/plain": [
       "SVC()"
      ]
     },
     "execution_count": 13,
     "metadata": {},
     "output_type": "execute_result"
    }
   ],
   "source": [
    "X = iris_data[[\"Petal.Length\",\"Petal.Width\"]]\n",
    "Y = iris_data[\"Species\"]\n",
    "model = SVC()\n",
    "model.fit(X,Y)\n"
   ]
  },
  {
   "cell_type": "markdown",
   "id": "d35a45b8",
   "metadata": {},
   "source": [
    "#### Visualization of Model"
   ]
  },
  {
   "cell_type": "code",
   "execution_count": 15,
   "id": "f095ff41",
   "metadata": {},
   "outputs": [
    {
     "data": {
      "text/plain": [
       "Text(0.5, 1.0, 'Multiclass classification on iris using SVM')"
      ]
     },
     "execution_count": 15,
     "metadata": {},
     "output_type": "execute_result"
    },
    {
     "data": {
      "image/png": "[encoded data removed]",
      "text/plain": [
       "<Figure size 432x288 with 1 Axes>"
      ]
     },
     "metadata": {
      "needs_background": "light"
     },
     "output_type": "display_data"
    }
   ],
   "source": [
    "from mlxtend.plotting import plot_decision_regions\n",
    "features = np.array(X)\n",
    "target = np.array(Y)\n",
    "plot_decision_regions(features,target,clf=model)\n",
    "plt.xlabel(\"Petal length\")\n",
    "plt.ylabel(\"Petal width\")\n",
    "plt.title('Multiclass classification on iris using SVM')\n"
   ]
  },
  {
   "cell_type": "markdown",
   "id": "13324b5d",
   "metadata": {},
   "source": [
    "SVM usually performs well where -\n",
    "\n",
    "The dataset has fewer number of classes (preferably 2) in the target variable.\n",
    "\n",
    "The dataset is high dimensional.\n",
    "\n",
    "The dataset is balanced. For example, Iris dataset is a balanced dataset because it has almost equal number of instances in each class/category."
   ]
  },
  {
   "cell_type": "code",
   "execution_count": null,
   "id": "090f6c95",
   "metadata": {},
   "outputs": [],
   "source": []
  }
 ],
 "metadata": {
  "kernelspec": {
   "display_name": "Python 3",
   "language": "python",
   "name": "python3"
  },
  "language_info": {
   "codemirror_mode": {
    "name": "ipython",
    "version": 3
   },
   "file_extension": ".py",
   "mimetype": "text/x-python",
   "name": "python",
   "nbconvert_exporter": "python",
   "pygments_lexer": "ipython3",
   "version": "3.8.8"
  }
 },
 "nbformat": 4,
 "nbformat_minor": 5
}
