{
 "cells": [
  {
   "cell_type": "markdown",
   "id": "e4cf780c",
   "metadata": {},
   "source": [
    "###  k-Nearest Neighbors(kNN) \n",
    "\n",
    "The k-Nearest Neighbors(kNN) algorithm determines the target value of a new data point or instance by comparing it with existing data points or instances that are closest to it. The target values of the k-closest instances are aggregated and taken as the target output for the new data point. "
   ]
  },
  {
   "cell_type": "code",
   "execution_count": 1,
   "id": "8436bc0c",
   "metadata": {},
   "outputs": [],
   "source": [
    "import numpy as np\n",
    "import pandas as pd\n",
    "import seaborn as sns\n",
    "import matplotlib.pyplot as plt\n",
    "%matplotlib inline\n",
    "\n",
    "import warnings\n",
    "warnings.filterwarnings('ignore')"
   ]
  },
  {
   "cell_type": "code",
   "execution_count": 5,
   "id": "382505f2",
   "metadata": {},
   "outputs": [],
   "source": [
    "df=pd.read_csv('../ClassificationDataSet/defaulter.csv')"
   ]
  },
  {
   "cell_type": "code",
   "execution_count": 7,
   "id": "2e583983",
   "metadata": {},
   "outputs": [
    {
     "data": {
      "text/html": [
       "<div>\n",
       "<style scoped>\n",
       "    .dataframe tbody tr th:only-of-type {\n",
       "        vertical-align: middle;\n",
       "    }\n",
       "\n",
       "    .dataframe tbody tr th {\n",
       "        vertical-align: top;\n",
       "    }\n",
       "\n",
       "    .dataframe thead th {\n",
       "        text-align: right;\n",
       "    }\n",
       "</style>\n",
       "<table border=\"1\" class=\"dataframe\">\n",
       "  <thead>\n",
       "    <tr style=\"text-align: right;\">\n",
       "      <th></th>\n",
       "      <th>defaulter</th>\n",
       "      <th>student</th>\n",
       "      <th>balance</th>\n",
       "      <th>income</th>\n",
       "    </tr>\n",
       "  </thead>\n",
       "  <tbody>\n",
       "    <tr>\n",
       "      <th>0</th>\n",
       "      <td>No</td>\n",
       "      <td>Yes</td>\n",
       "      <td>817.1804</td>\n",
       "      <td>12106.14</td>\n",
       "    </tr>\n",
       "    <tr>\n",
       "      <th>1</th>\n",
       "      <td>Yes</td>\n",
       "      <td>Yes</td>\n",
       "      <td>1486.9980</td>\n",
       "      <td>17854.40</td>\n",
       "    </tr>\n",
       "    <tr>\n",
       "      <th>2</th>\n",
       "      <td>Yes</td>\n",
       "      <td>Yes</td>\n",
       "      <td>1102.4350</td>\n",
       "      <td>17391.78</td>\n",
       "    </tr>\n",
       "    <tr>\n",
       "      <th>3</th>\n",
       "      <td>Yes</td>\n",
       "      <td>Yes</td>\n",
       "      <td>1233.4460</td>\n",
       "      <td>12586.48</td>\n",
       "    </tr>\n",
       "    <tr>\n",
       "      <th>4</th>\n",
       "      <td>Yes</td>\n",
       "      <td>Yes</td>\n",
       "      <td>1276.6850</td>\n",
       "      <td>19282.44</td>\n",
       "    </tr>\n",
       "    <tr>\n",
       "      <th>5</th>\n",
       "      <td>Yes</td>\n",
       "      <td>Yes</td>\n",
       "      <td>1289.2460</td>\n",
       "      <td>13624.55</td>\n",
       "    </tr>\n",
       "    <tr>\n",
       "      <th>6</th>\n",
       "      <td>No</td>\n",
       "      <td>Yes</td>\n",
       "      <td>673.8124</td>\n",
       "      <td>17672.29</td>\n",
       "    </tr>\n",
       "    <tr>\n",
       "      <th>7</th>\n",
       "      <td>No</td>\n",
       "      <td>No</td>\n",
       "      <td>870.4124</td>\n",
       "      <td>17685.45</td>\n",
       "    </tr>\n",
       "    <tr>\n",
       "      <th>8</th>\n",
       "      <td>No</td>\n",
       "      <td>Yes</td>\n",
       "      <td>903.1768</td>\n",
       "      <td>15810.57</td>\n",
       "    </tr>\n",
       "    <tr>\n",
       "      <th>9</th>\n",
       "      <td>No</td>\n",
       "      <td>Yes</td>\n",
       "      <td>879.6270</td>\n",
       "      <td>14898.31</td>\n",
       "    </tr>\n",
       "    <tr>\n",
       "      <th>10</th>\n",
       "      <td>unknown</td>\n",
       "      <td>Yes</td>\n",
       "      <td>1000.0000</td>\n",
       "      <td>16900.00</td>\n",
       "    </tr>\n",
       "  </tbody>\n",
       "</table>\n",
       "</div>"
      ],
      "text/plain": [
       "   defaulter student    balance    income\n",
       "0         No     Yes   817.1804  12106.14\n",
       "1        Yes     Yes  1486.9980  17854.40\n",
       "2        Yes     Yes  1102.4350  17391.78\n",
       "3        Yes     Yes  1233.4460  12586.48\n",
       "4        Yes     Yes  1276.6850  19282.44\n",
       "5        Yes     Yes  1289.2460  13624.55\n",
       "6         No     Yes   673.8124  17672.29\n",
       "7         No      No   870.4124  17685.45\n",
       "8         No     Yes   903.1768  15810.57\n",
       "9         No     Yes   879.6270  14898.31\n",
       "10   unknown     Yes  1000.0000  16900.00"
      ]
     },
     "execution_count": 7,
     "metadata": {},
     "output_type": "execute_result"
    }
   ],
   "source": [
    "df"
   ]
  },
  {
   "cell_type": "markdown",
   "id": "4731cb2e",
   "metadata": {},
   "source": [
    "Let us try to predict the value of the target column \"defaulter\" based on the other columns such as 'income' and 'balance'.\n",
    "\n",
    "The scatter plot of \"income\" vs \"balance\" is given below. The colour 'orange' indicates defaulters, 'blue' indicates the non-defaulters and 'green' indicates a data point whose label has to be identified."
   ]
  },
  {
   "cell_type": "code",
   "execution_count": 9,
   "id": "2bf1c84d",
   "metadata": {},
   "outputs": [
    {
     "data": {
      "text/plain": [
       "<seaborn.axisgrid.PairGrid at 0x240538edfa0>"
      ]
     },
     "execution_count": 9,
     "metadata": {},
     "output_type": "execute_result"
    },
    {
     "data": {
      "image/png": "[encoded data removed]",
      "text/plain": [
       "<Figure size 369.375x288 with 1 Axes>"
      ]
     },
     "metadata": {
      "needs_background": "light"
     },
     "output_type": "display_data"
    }
   ],
   "source": [
    "#visualizing data using seaborn - pariplot\n",
    "import seaborn as sns\n",
    "sns.pairplot(df,hue=\"defaulter\",\n",
    "             x_vars=\"income\",y_vars=\"balance\",height=4)\n"
   ]
  },
  {
   "attachments": {
    "image-2.png": {
     "image/png": "[encoded data removed]"
    },
    "image-3.png": {
     "image/png": "[encoded data removed]"
    },
    "image.png": {
     "image/png": "[encoded data removed]"
    }
   },
   "cell_type": "markdown",
   "id": "1cd4f568",
   "metadata": {},
   "source": [
    "#### Euclidean Distance\n",
    "The kNN algorithm identifies the nearest neighbors based on Euclidean distance* - a commonly used distance metric. The Euclidean distance between two (tuples) - X1 (x11, x12, x13, .. x1n) and X2 (x21, x22, x23, .. x2n) can be computed as:\n",
    "![image.png](attachment:image.png)\n",
    "\n",
    "where, x11, x12, x13, .. x1n are the numeric attributes of X1 and x21, x22, x23, .. x2n are the numeric attributes of X2.\n",
    "\n",
    "In the given scenario, each instance has two numeric attributes such as balance and income. Thus, each instance here is represented as a point in a 2-dimensional space.\n",
    "\n",
    "Let us now compute the Euclidean distance between a few tuples in the given scenario.\n",
    "\n",
    "Let X1 be the tuple at index 0 (balance=817.1804, income=12106.14, defaulter=No) and X2 be the tuple at index 1 (balance=1486.998, income=17854.4, defaulter=Yes). \n",
    "![image-2.png](attachment:image-2.png)\n",
    "\n",
    "The Euclidean distance between X1 and X2 can be computed as:\n",
    "![image-3.png](attachment:image-3.png)\n",
    "\n"
   ]
  },
  {
   "cell_type": "code",
   "execution_count": 11,
   "id": "09a33b7f",
   "metadata": {},
   "outputs": [
    {
     "data": {
      "text/plain": [
       "5787.1537602581275"
      ]
     },
     "execution_count": 11,
     "metadata": {},
     "output_type": "execute_result"
    }
   ],
   "source": [
    "# retrieving first data point from the dataset\n",
    "x1 = df.loc[0,[\"balance\",\"income\"]]\n",
    "\n",
    "# retrieving second data point from the dataset\n",
    "x2 = df.loc[1,[\"balance\",\"income\"]]\n",
    "\n",
    "# Euclidean distance between first and second data point\n",
    "np.linalg.norm(x1-x2)\n",
    "\n",
    "#output\n",
    "#5787.1537602581275\n"
   ]
  },
  {
   "cell_type": "markdown",
   "id": "bebc864c",
   "metadata": {},
   "source": [
    "##### *Note: Euclidean distance is used as a distance metric when the data tuple comprises of numeric attributes. \n",
    "##### Distance metrics such as Hamming distance can be used when the data tuple comprises of categorical attributes. "
   ]
  },
  {
   "cell_type": "markdown",
   "id": "40efc15d",
   "metadata": {},
   "source": [
    "### Limitation of Euclidean Distance\n",
    "One of the limitations of Euclidean distance is that attributes with larger ranges contribute more value to the Euclidean distance.\n",
    "\n",
    "For example, if the numeric attributes are age and loan amount, then it can be observed that the typical age in years for humans may range from 0 to 100 years, however, the loan amount in dollars may range from 0 dollars to several thousand dollars.\n",
    "\n",
    "Let us illustrate this with a simple example. Consider 3 data tuples T1 (age=26, loanAmt=1000), T2 (age=66, loanAmt=1000) and T3 (age=36, loanAmt=10000).\n",
    "\n",
    "The Euclidean distance of the tuple T3 from T1 and T2 can be computed as:"
   ]
  },
  {
   "cell_type": "code",
   "execution_count": 12,
   "id": "9466946c",
   "metadata": {},
   "outputs": [
    {
     "name": "stdout",
     "output_type": "stream",
     "text": [
      "Distance between t2 and t3 9000.049999861112 \n",
      "Distance between t1 and t3 9000.00555555384\n"
     ]
    }
   ],
   "source": [
    "# considering 3 random datapoints - t1, t2, t3\n",
    "t1 = np.array([26,1000])\n",
    "t2 = np.array([66,1000])\n",
    "t3 = np.array([36,10000])\n",
    "\n",
    "# distance between t1 & t3\n",
    "dist_t3_t1 = np.linalg.norm(t3-t1)\n",
    "\n",
    "# distance between t2 & t3\n",
    "dist_t2_t3 = np.linalg.norm(t2-t3)\n",
    "\n",
    "print(\"Distance between t2 and t3\",dist_t2_t3,\n",
    "      \"\\nDistance between t1 and t3\",dist_t3_t1)\n",
    "#output\n",
    "#Distance between t2 and t3 9000.049999861112 \n",
    "#Distance between t1 and t3 9000.00555555384\n"
   ]
  },
  {
   "cell_type": "markdown",
   "id": "db151597",
   "metadata": {},
   "source": [
    "we can observe that the difference in the values of age for T1 and T3 (i.e. 26-36=10) is significantly less than the difference in the values of age for T2 and T3 (i.e. 66-36=30). However, the Euclidean distance between the tuples T1 and T3 is same as that of the Euclidean distance between the tuples T2 and T3, suggesting that the parameter loanAmt has a high influence on the Euclidean distance as compared to the age.\n",
    "\n",
    "To avoid this situation, all the numeric attributes of the tuples can be normalized before they are used for computing the Euclidean distance. Normalization is essential to take into consideration, the different measurement scales of the attributes. Normalization is not just applied to kNN, it is often considered as a good practice to normalize the data before running any machine learning algorithm. "
   ]
  },
  {
   "attachments": {
    "image.png": {
     "image/png": "[encoded data removed]"
    }
   },
   "cell_type": "markdown",
   "id": "af4faa39",
   "metadata": {},
   "source": [
    "### Normalizing the Data\n",
    "There are several normalization techniques that can be applied such as 1. Standard Scaler  &  2. Min-Max Scaler\n",
    "These methods are available in the package 'sklearn.preprocessing'. \n",
    "Let us now normalize the balance and income in the defaulter dataset and find the euclidean distance between instances X1 (tuple at index 0 - balance=817.1804, income=12106.14, defaulter=No) and X2 (tuple at index 1 - balance=1486.998, income=17854.4, defaulter=Yes).  \n",
    "\n",
    "#### min-max normalization\n",
    "\n",
    "To normalize the data, use the min-max normalization. This normalization transforms the value v of a numeric attribute A to a value v', where \n",
    "\n",
    "![image.png](attachment:image.png)\n",
    "\n",
    "We shall first normalize the values of the attributes of X1 and X2. Let us use the min-max normalization technique to normalize the 'balance' and 'income'.\n",
    "The below code demonstrates the use of MinMaxScaler in sklearn.preprocessing to normalize the data."
   ]
  },
  {
   "cell_type": "code",
   "execution_count": 14,
   "id": "2e1efe84",
   "metadata": {},
   "outputs": [
    {
     "data": {
      "text/html": [
       "<div>\n",
       "<style scoped>\n",
       "    .dataframe tbody tr th:only-of-type {\n",
       "        vertical-align: middle;\n",
       "    }\n",
       "\n",
       "    .dataframe tbody tr th {\n",
       "        vertical-align: top;\n",
       "    }\n",
       "\n",
       "    .dataframe thead th {\n",
       "        text-align: right;\n",
       "    }\n",
       "</style>\n",
       "<table border=\"1\" class=\"dataframe\">\n",
       "  <thead>\n",
       "    <tr style=\"text-align: right;\">\n",
       "      <th></th>\n",
       "      <th>defaulter</th>\n",
       "      <th>student</th>\n",
       "      <th>balance</th>\n",
       "      <th>income</th>\n",
       "      <th>norm_balance</th>\n",
       "      <th>norm_income</th>\n",
       "    </tr>\n",
       "  </thead>\n",
       "  <tbody>\n",
       "    <tr>\n",
       "      <th>0</th>\n",
       "      <td>No</td>\n",
       "      <td>Yes</td>\n",
       "      <td>817.1804</td>\n",
       "      <td>12106.14</td>\n",
       "      <td>0.176304</td>\n",
       "      <td>0.000000</td>\n",
       "    </tr>\n",
       "    <tr>\n",
       "      <th>1</th>\n",
       "      <td>Yes</td>\n",
       "      <td>Yes</td>\n",
       "      <td>1486.9980</td>\n",
       "      <td>17854.40</td>\n",
       "      <td>1.000000</td>\n",
       "      <td>0.801006</td>\n",
       "    </tr>\n",
       "    <tr>\n",
       "      <th>2</th>\n",
       "      <td>Yes</td>\n",
       "      <td>Yes</td>\n",
       "      <td>1102.4350</td>\n",
       "      <td>17391.78</td>\n",
       "      <td>0.527091</td>\n",
       "      <td>0.736541</td>\n",
       "    </tr>\n",
       "    <tr>\n",
       "      <th>3</th>\n",
       "      <td>Yes</td>\n",
       "      <td>Yes</td>\n",
       "      <td>1233.4460</td>\n",
       "      <td>12586.48</td>\n",
       "      <td>0.688199</td>\n",
       "      <td>0.066934</td>\n",
       "    </tr>\n",
       "    <tr>\n",
       "      <th>4</th>\n",
       "      <td>Yes</td>\n",
       "      <td>Yes</td>\n",
       "      <td>1276.6850</td>\n",
       "      <td>19282.44</td>\n",
       "      <td>0.741371</td>\n",
       "      <td>1.000000</td>\n",
       "    </tr>\n",
       "    <tr>\n",
       "      <th>5</th>\n",
       "      <td>Yes</td>\n",
       "      <td>Yes</td>\n",
       "      <td>1289.2460</td>\n",
       "      <td>13624.55</td>\n",
       "      <td>0.756818</td>\n",
       "      <td>0.211587</td>\n",
       "    </tr>\n",
       "    <tr>\n",
       "      <th>6</th>\n",
       "      <td>No</td>\n",
       "      <td>Yes</td>\n",
       "      <td>673.8124</td>\n",
       "      <td>17672.29</td>\n",
       "      <td>0.000000</td>\n",
       "      <td>0.775630</td>\n",
       "    </tr>\n",
       "    <tr>\n",
       "      <th>7</th>\n",
       "      <td>No</td>\n",
       "      <td>No</td>\n",
       "      <td>870.4124</td>\n",
       "      <td>17685.45</td>\n",
       "      <td>0.241765</td>\n",
       "      <td>0.777463</td>\n",
       "    </tr>\n",
       "    <tr>\n",
       "      <th>8</th>\n",
       "      <td>No</td>\n",
       "      <td>Yes</td>\n",
       "      <td>903.1768</td>\n",
       "      <td>15810.57</td>\n",
       "      <td>0.282057</td>\n",
       "      <td>0.516203</td>\n",
       "    </tr>\n",
       "    <tr>\n",
       "      <th>9</th>\n",
       "      <td>No</td>\n",
       "      <td>Yes</td>\n",
       "      <td>879.6270</td>\n",
       "      <td>14898.31</td>\n",
       "      <td>0.253097</td>\n",
       "      <td>0.389082</td>\n",
       "    </tr>\n",
       "    <tr>\n",
       "      <th>10</th>\n",
       "      <td>unknown</td>\n",
       "      <td>Yes</td>\n",
       "      <td>1000.0000</td>\n",
       "      <td>16900.00</td>\n",
       "      <td>0.401123</td>\n",
       "      <td>0.668013</td>\n",
       "    </tr>\n",
       "  </tbody>\n",
       "</table>\n",
       "</div>"
      ],
      "text/plain": [
       "   defaulter student    balance    income  norm_balance  norm_income\n",
       "0         No     Yes   817.1804  12106.14      0.176304     0.000000\n",
       "1        Yes     Yes  1486.9980  17854.40      1.000000     0.801006\n",
       "2        Yes     Yes  1102.4350  17391.78      0.527091     0.736541\n",
       "3        Yes     Yes  1233.4460  12586.48      0.688199     0.066934\n",
       "4        Yes     Yes  1276.6850  19282.44      0.741371     1.000000\n",
       "5        Yes     Yes  1289.2460  13624.55      0.756818     0.211587\n",
       "6         No     Yes   673.8124  17672.29      0.000000     0.775630\n",
       "7         No      No   870.4124  17685.45      0.241765     0.777463\n",
       "8         No     Yes   903.1768  15810.57      0.282057     0.516203\n",
       "9         No     Yes   879.6270  14898.31      0.253097     0.389082\n",
       "10   unknown     Yes  1000.0000  16900.00      0.401123     0.668013"
      ]
     },
     "execution_count": 14,
     "metadata": {},
     "output_type": "execute_result"
    }
   ],
   "source": [
    "# Using MinMaxScaler of Scikit Learn library for Normalization of all features\n",
    "from sklearn.preprocessing import MinMaxScaler\n",
    "scaler = MinMaxScaler()\n",
    "scaled_values = scaler.fit_transform(df[[\"balance\",\"income\"]])\n",
    "df[\"norm_balance\"] = scaled_values[:,0]\n",
    "df[\"norm_income\"] = scaled_values[:,1]\n",
    "df\n"
   ]
  },
  {
   "cell_type": "markdown",
   "id": "bbad7751",
   "metadata": {},
   "source": [
    "##### In the below code, 'StandardScaler' is used for normalizing the data. It works based on the standard deviation and mean value of the numerical columns."
   ]
  },
  {
   "cell_type": "code",
   "execution_count": 17,
   "id": "801f67fb",
   "metadata": {},
   "outputs": [
    {
     "data": {
      "text/html": [
       "<div>\n",
       "<style scoped>\n",
       "    .dataframe tbody tr th:only-of-type {\n",
       "        vertical-align: middle;\n",
       "    }\n",
       "\n",
       "    .dataframe tbody tr th {\n",
       "        vertical-align: top;\n",
       "    }\n",
       "\n",
       "    .dataframe thead th {\n",
       "        text-align: right;\n",
       "    }\n",
       "</style>\n",
       "<table border=\"1\" class=\"dataframe\">\n",
       "  <thead>\n",
       "    <tr style=\"text-align: right;\">\n",
       "      <th></th>\n",
       "      <th>defaulter</th>\n",
       "      <th>student</th>\n",
       "      <th>balance</th>\n",
       "      <th>income</th>\n",
       "      <th>norm_balance</th>\n",
       "      <th>norm_income</th>\n",
       "      <th>norm_balance_ss</th>\n",
       "      <th>norm_income_ss</th>\n",
       "    </tr>\n",
       "  </thead>\n",
       "  <tbody>\n",
       "    <tr>\n",
       "      <th>0</th>\n",
       "      <td>No</td>\n",
       "      <td>Yes</td>\n",
       "      <td>817.1804</td>\n",
       "      <td>12106.14</td>\n",
       "      <td>0.176304</td>\n",
       "      <td>0.000000</td>\n",
       "      <td>-0.976506</td>\n",
       "      <td>-1.713612</td>\n",
       "    </tr>\n",
       "    <tr>\n",
       "      <th>1</th>\n",
       "      <td>Yes</td>\n",
       "      <td>Yes</td>\n",
       "      <td>1486.9980</td>\n",
       "      <td>17854.40</td>\n",
       "      <td>1.000000</td>\n",
       "      <td>0.801006</td>\n",
       "      <td>1.851636</td>\n",
       "      <td>0.827213</td>\n",
       "    </tr>\n",
       "    <tr>\n",
       "      <th>2</th>\n",
       "      <td>Yes</td>\n",
       "      <td>Yes</td>\n",
       "      <td>1102.4350</td>\n",
       "      <td>17391.78</td>\n",
       "      <td>0.527091</td>\n",
       "      <td>0.736541</td>\n",
       "      <td>0.227912</td>\n",
       "      <td>0.622727</td>\n",
       "    </tr>\n",
       "    <tr>\n",
       "      <th>3</th>\n",
       "      <td>Yes</td>\n",
       "      <td>Yes</td>\n",
       "      <td>1233.4460</td>\n",
       "      <td>12586.48</td>\n",
       "      <td>0.688199</td>\n",
       "      <td>0.066934</td>\n",
       "      <td>0.781074</td>\n",
       "      <td>-1.501294</td>\n",
       "    </tr>\n",
       "    <tr>\n",
       "      <th>4</th>\n",
       "      <td>Yes</td>\n",
       "      <td>Yes</td>\n",
       "      <td>1276.6850</td>\n",
       "      <td>19282.44</td>\n",
       "      <td>0.741371</td>\n",
       "      <td>1.000000</td>\n",
       "      <td>0.963641</td>\n",
       "      <td>1.458430</td>\n",
       "    </tr>\n",
       "    <tr>\n",
       "      <th>5</th>\n",
       "      <td>Yes</td>\n",
       "      <td>Yes</td>\n",
       "      <td>1289.2460</td>\n",
       "      <td>13624.55</td>\n",
       "      <td>0.756818</td>\n",
       "      <td>0.211587</td>\n",
       "      <td>1.016676</td>\n",
       "      <td>-1.042450</td>\n",
       "    </tr>\n",
       "    <tr>\n",
       "      <th>6</th>\n",
       "      <td>No</td>\n",
       "      <td>Yes</td>\n",
       "      <td>673.8124</td>\n",
       "      <td>17672.29</td>\n",
       "      <td>0.000000</td>\n",
       "      <td>0.775630</td>\n",
       "      <td>-1.581843</td>\n",
       "      <td>0.746717</td>\n",
       "    </tr>\n",
       "    <tr>\n",
       "      <th>7</th>\n",
       "      <td>No</td>\n",
       "      <td>No</td>\n",
       "      <td>870.4124</td>\n",
       "      <td>17685.45</td>\n",
       "      <td>0.241765</td>\n",
       "      <td>0.777463</td>\n",
       "      <td>-0.751747</td>\n",
       "      <td>0.752534</td>\n",
       "    </tr>\n",
       "    <tr>\n",
       "      <th>8</th>\n",
       "      <td>No</td>\n",
       "      <td>Yes</td>\n",
       "      <td>903.1768</td>\n",
       "      <td>15810.57</td>\n",
       "      <td>0.282057</td>\n",
       "      <td>0.516203</td>\n",
       "      <td>-0.613407</td>\n",
       "      <td>-0.076193</td>\n",
       "    </tr>\n",
       "    <tr>\n",
       "      <th>9</th>\n",
       "      <td>No</td>\n",
       "      <td>Yes</td>\n",
       "      <td>879.6270</td>\n",
       "      <td>14898.31</td>\n",
       "      <td>0.253097</td>\n",
       "      <td>0.389082</td>\n",
       "      <td>-0.712841</td>\n",
       "      <td>-0.479427</td>\n",
       "    </tr>\n",
       "    <tr>\n",
       "      <th>10</th>\n",
       "      <td>unknown</td>\n",
       "      <td>Yes</td>\n",
       "      <td>1000.0000</td>\n",
       "      <td>16900.00</td>\n",
       "      <td>0.401123</td>\n",
       "      <td>0.668013</td>\n",
       "      <td>-0.204595</td>\n",
       "      <td>0.405353</td>\n",
       "    </tr>\n",
       "  </tbody>\n",
       "</table>\n",
       "</div>"
      ],
      "text/plain": [
       "   defaulter student    balance    income  norm_balance  norm_income  \\\n",
       "0         No     Yes   817.1804  12106.14      0.176304     0.000000   \n",
       "1        Yes     Yes  1486.9980  17854.40      1.000000     0.801006   \n",
       "2        Yes     Yes  1102.4350  17391.78      0.527091     0.736541   \n",
       "3        Yes     Yes  1233.4460  12586.48      0.688199     0.066934   \n",
       "4        Yes     Yes  1276.6850  19282.44      0.741371     1.000000   \n",
       "5        Yes     Yes  1289.2460  13624.55      0.756818     0.211587   \n",
       "6         No     Yes   673.8124  17672.29      0.000000     0.775630   \n",
       "7         No      No   870.4124  17685.45      0.241765     0.777463   \n",
       "8         No     Yes   903.1768  15810.57      0.282057     0.516203   \n",
       "9         No     Yes   879.6270  14898.31      0.253097     0.389082   \n",
       "10   unknown     Yes  1000.0000  16900.00      0.401123     0.668013   \n",
       "\n",
       "    norm_balance_ss  norm_income_ss  \n",
       "0         -0.976506       -1.713612  \n",
       "1          1.851636        0.827213  \n",
       "2          0.227912        0.622727  \n",
       "3          0.781074       -1.501294  \n",
       "4          0.963641        1.458430  \n",
       "5          1.016676       -1.042450  \n",
       "6         -1.581843        0.746717  \n",
       "7         -0.751747        0.752534  \n",
       "8         -0.613407       -0.076193  \n",
       "9         -0.712841       -0.479427  \n",
       "10        -0.204595        0.405353  "
      ]
     },
     "execution_count": 17,
     "metadata": {},
     "output_type": "execute_result"
    }
   ],
   "source": [
    "from sklearn.preprocessing import StandardScaler\n",
    "\n",
    "\n",
    "scaler = StandardScaler()\n",
    "\n",
    "# finding the mean and std deviation of numerical columns & scaling columns to a common range\n",
    "scaled_df = scaler.fit_transform(df[[\"balance\",\"income\"]])# Scaled data \n",
    "\n",
    "#note that output is a 2-Dimensional array of normalized data\n",
    "#scaled_df\n",
    "df[\"norm_balance_ss\"] = scaled_df[:,0]\n",
    "df[\"norm_income_ss\"] = scaled_df[:,1]\n",
    "df\n"
   ]
  },
  {
   "cell_type": "markdown",
   "id": "81b8dd05",
   "metadata": {},
   "source": [
    "##### The Euclidean distance between normalized tuples X1' and X2' is"
   ]
  },
  {
   "cell_type": "code",
   "execution_count": 19,
   "id": "9b997898",
   "metadata": {},
   "outputs": [
    {
     "data": {
      "text/plain": [
       "1.1489497815843788"
      ]
     },
     "execution_count": 19,
     "metadata": {},
     "output_type": "execute_result"
    }
   ],
   "source": [
    "#distance between two normalized data points\n",
    "x1_n = df.loc[0,[\"norm_balance\",\"norm_income\"]]\n",
    "x2_n = df.loc[1,[\"norm_balance\",\"norm_income\"]]\n",
    "np.linalg.norm(x1_n-x2_n)\n",
    "#output\n",
    "#1.1489497815843785\n"
   ]
  },
  {
   "cell_type": "markdown",
   "id": "ad7421ea",
   "metadata": {},
   "source": [
    "### Prediction based on 'k' Nearest Neighbors\n",
    "The Euclidean distance of the new normalized tuple X11' (tuple with index 10) from all other tuples is sorted in ascending order as shown below:"
   ]
  },
  {
   "cell_type": "code",
   "execution_count": 20,
   "id": "6a5e3d0e",
   "metadata": {},
   "outputs": [
    {
     "data": {
      "text/html": [
       "<div>\n",
       "<style scoped>\n",
       "    .dataframe tbody tr th:only-of-type {\n",
       "        vertical-align: middle;\n",
       "    }\n",
       "\n",
       "    .dataframe tbody tr th {\n",
       "        vertical-align: top;\n",
       "    }\n",
       "\n",
       "    .dataframe thead th {\n",
       "        text-align: right;\n",
       "    }\n",
       "</style>\n",
       "<table border=\"1\" class=\"dataframe\">\n",
       "  <thead>\n",
       "    <tr style=\"text-align: right;\">\n",
       "      <th></th>\n",
       "      <th>defaulter</th>\n",
       "      <th>student</th>\n",
       "      <th>balance</th>\n",
       "      <th>income</th>\n",
       "      <th>norm_balance</th>\n",
       "      <th>norm_income</th>\n",
       "      <th>norm_balance_ss</th>\n",
       "      <th>norm_income_ss</th>\n",
       "      <th>dist_toX11</th>\n",
       "    </tr>\n",
       "  </thead>\n",
       "  <tbody>\n",
       "    <tr>\n",
       "      <th>10</th>\n",
       "      <td>unknown</td>\n",
       "      <td>Yes</td>\n",
       "      <td>1000.0000</td>\n",
       "      <td>16900.00</td>\n",
       "      <td>0.401123</td>\n",
       "      <td>0.668013</td>\n",
       "      <td>-0.204595</td>\n",
       "      <td>0.405353</td>\n",
       "      <td>0.000000</td>\n",
       "    </tr>\n",
       "    <tr>\n",
       "      <th>2</th>\n",
       "      <td>Yes</td>\n",
       "      <td>Yes</td>\n",
       "      <td>1102.4350</td>\n",
       "      <td>17391.78</td>\n",
       "      <td>0.527091</td>\n",
       "      <td>0.736541</td>\n",
       "      <td>0.227912</td>\n",
       "      <td>0.622727</td>\n",
       "      <td>0.143401</td>\n",
       "    </tr>\n",
       "    <tr>\n",
       "      <th>8</th>\n",
       "      <td>No</td>\n",
       "      <td>Yes</td>\n",
       "      <td>903.1768</td>\n",
       "      <td>15810.57</td>\n",
       "      <td>0.282057</td>\n",
       "      <td>0.516203</td>\n",
       "      <td>-0.613407</td>\n",
       "      <td>-0.076193</td>\n",
       "      <td>0.192932</td>\n",
       "    </tr>\n",
       "    <tr>\n",
       "      <th>7</th>\n",
       "      <td>No</td>\n",
       "      <td>No</td>\n",
       "      <td>870.4124</td>\n",
       "      <td>17685.45</td>\n",
       "      <td>0.241765</td>\n",
       "      <td>0.777463</td>\n",
       "      <td>-0.751747</td>\n",
       "      <td>0.752534</td>\n",
       "      <td>0.193325</td>\n",
       "    </tr>\n",
       "    <tr>\n",
       "      <th>9</th>\n",
       "      <td>No</td>\n",
       "      <td>Yes</td>\n",
       "      <td>879.6270</td>\n",
       "      <td>14898.31</td>\n",
       "      <td>0.253097</td>\n",
       "      <td>0.389082</td>\n",
       "      <td>-0.712841</td>\n",
       "      <td>-0.479427</td>\n",
       "      <td>0.315775</td>\n",
       "    </tr>\n",
       "    <tr>\n",
       "      <th>6</th>\n",
       "      <td>No</td>\n",
       "      <td>Yes</td>\n",
       "      <td>673.8124</td>\n",
       "      <td>17672.29</td>\n",
       "      <td>0.000000</td>\n",
       "      <td>0.775630</td>\n",
       "      <td>-1.581843</td>\n",
       "      <td>0.746717</td>\n",
       "      <td>0.415309</td>\n",
       "    </tr>\n",
       "    <tr>\n",
       "      <th>4</th>\n",
       "      <td>Yes</td>\n",
       "      <td>Yes</td>\n",
       "      <td>1276.6850</td>\n",
       "      <td>19282.44</td>\n",
       "      <td>0.741371</td>\n",
       "      <td>1.000000</td>\n",
       "      <td>0.963641</td>\n",
       "      <td>1.458430</td>\n",
       "      <td>0.475378</td>\n",
       "    </tr>\n",
       "    <tr>\n",
       "      <th>5</th>\n",
       "      <td>Yes</td>\n",
       "      <td>Yes</td>\n",
       "      <td>1289.2460</td>\n",
       "      <td>13624.55</td>\n",
       "      <td>0.756818</td>\n",
       "      <td>0.211587</td>\n",
       "      <td>1.016676</td>\n",
       "      <td>-1.042450</td>\n",
       "      <td>0.578657</td>\n",
       "    </tr>\n",
       "    <tr>\n",
       "      <th>1</th>\n",
       "      <td>Yes</td>\n",
       "      <td>Yes</td>\n",
       "      <td>1486.9980</td>\n",
       "      <td>17854.40</td>\n",
       "      <td>1.000000</td>\n",
       "      <td>0.801006</td>\n",
       "      <td>1.851636</td>\n",
       "      <td>0.827213</td>\n",
       "      <td>0.613466</td>\n",
       "    </tr>\n",
       "    <tr>\n",
       "      <th>3</th>\n",
       "      <td>Yes</td>\n",
       "      <td>Yes</td>\n",
       "      <td>1233.4460</td>\n",
       "      <td>12586.48</td>\n",
       "      <td>0.688199</td>\n",
       "      <td>0.066934</td>\n",
       "      <td>0.781074</td>\n",
       "      <td>-1.501294</td>\n",
       "      <td>0.666114</td>\n",
       "    </tr>\n",
       "    <tr>\n",
       "      <th>0</th>\n",
       "      <td>No</td>\n",
       "      <td>Yes</td>\n",
       "      <td>817.1804</td>\n",
       "      <td>12106.14</td>\n",
       "      <td>0.176304</td>\n",
       "      <td>0.000000</td>\n",
       "      <td>-0.976506</td>\n",
       "      <td>-1.713612</td>\n",
       "      <td>0.704830</td>\n",
       "    </tr>\n",
       "  </tbody>\n",
       "</table>\n",
       "</div>"
      ],
      "text/plain": [
       "   defaulter student    balance    income  norm_balance  norm_income  \\\n",
       "10   unknown     Yes  1000.0000  16900.00      0.401123     0.668013   \n",
       "2        Yes     Yes  1102.4350  17391.78      0.527091     0.736541   \n",
       "8         No     Yes   903.1768  15810.57      0.282057     0.516203   \n",
       "7         No      No   870.4124  17685.45      0.241765     0.777463   \n",
       "9         No     Yes   879.6270  14898.31      0.253097     0.389082   \n",
       "6         No     Yes   673.8124  17672.29      0.000000     0.775630   \n",
       "4        Yes     Yes  1276.6850  19282.44      0.741371     1.000000   \n",
       "5        Yes     Yes  1289.2460  13624.55      0.756818     0.211587   \n",
       "1        Yes     Yes  1486.9980  17854.40      1.000000     0.801006   \n",
       "3        Yes     Yes  1233.4460  12586.48      0.688199     0.066934   \n",
       "0         No     Yes   817.1804  12106.14      0.176304     0.000000   \n",
       "\n",
       "    norm_balance_ss  norm_income_ss  dist_toX11  \n",
       "10        -0.204595        0.405353    0.000000  \n",
       "2          0.227912        0.622727    0.143401  \n",
       "8         -0.613407       -0.076193    0.192932  \n",
       "7         -0.751747        0.752534    0.193325  \n",
       "9         -0.712841       -0.479427    0.315775  \n",
       "6         -1.581843        0.746717    0.415309  \n",
       "4          0.963641        1.458430    0.475378  \n",
       "5          1.016676       -1.042450    0.578657  \n",
       "1          1.851636        0.827213    0.613466  \n",
       "3          0.781074       -1.501294    0.666114  \n",
       "0         -0.976506       -1.713612    0.704830  "
      ]
     },
     "execution_count": 20,
     "metadata": {},
     "output_type": "execute_result"
    }
   ],
   "source": [
    "# Lambda function to calculate Euclidean distance\n",
    "x11 = df.loc[10,[\"norm_balance\",\"norm_income\"]] \n",
    "dist_to_X11 = lambda x: np.linalg.norm(x-x11)\n",
    "\n",
    "\n",
    "# calculating Euclidean Distance\n",
    "df[\"dist_toX11\"] = df[[\"norm_balance\",\"norm_income\"]].apply(dist_to_X11,axis=1)\n",
    "\n",
    "\n",
    "# sorting the datapoints based on distance to find the 'k' nearest neighbors\n",
    "df.sort_values(\"dist_toX11\")\n"
   ]
  },
  {
   "cell_type": "markdown",
   "id": "906ea0b9",
   "metadata": {},
   "source": [
    "Recall that the kNN algorithm identifies the k nearest neighbors of a new tuple and assigns it a class label based on the class labels of its nearest neighbors. \n",
    "\n",
    "Let us consider the value of k as 1, which means that, the kNN algorithm assigns a class label based on its nearest neighbor. The kNN algorithm would therefore classify the tuple X11 as default= Yes based on its nearest neighbor X3 (tuple at index 2) since the nearest neighbor (X3) has a class label of default=Yes."
   ]
  },
  {
   "cell_type": "markdown",
   "id": "1fbdab9f",
   "metadata": {},
   "source": [
    "For all values of k greater than 1, a data tuple is classified by a majority vote of its neighbors. The tuple will be assigned the class that is most common among its k nearest neighbors.\n",
    "\n",
    "If the value of k was selected as 3, the 3-nearest-neighbors of the data tuple X11 (balance=1000, income=16900) are identified. In this case they are X3 (balance=1102.435, income=17391.78, defaulter=Yes), X9(balance=903.1768, income=15810.57, defaulter=No) and X8(balance=870.4124, income=17685.45, defaulter=No) based on the Euclidean distances computed earlier.\n",
    "\n",
    "The new tuple would be classified as defaulter/non-defaulter based on the majority vote of the neighbors X3, X9 and X8. In this case, the majority vote indicates that the new tuple (X11) would be a non-defaulter.\n",
    "\n",
    "For k=2, X3 (balance=1102.435, income=17391.78, defaulter=Yes) and X9(balance=903.1768, income=15810.57, defaulter=No) are the 2 closest neighbors of X11 based on the Euclidean distances. In this case, you can see a tie in the votes (i.e. 1 vote for defaulter and 1 vote for non-defaulter).\n",
    "\n",
    "Therefore, it is difficult to classify the data tuple X11 as defaulter or a non-defaulter because the vote count results in a tie. Typically for binary-class cases (like defaulter= Y/N), an odd value of k is preferred to avoid such tie situations. For multi-class cases (more than 2 classes), the ties can be broken by assigning a class at random or by assigning the class that occurs most frequently"
   ]
  },
  {
   "cell_type": "markdown",
   "id": "c92e8212",
   "metadata": {},
   "source": [
    "### Building kNN model using sklearn\n",
    "Getting to know the working of the algorithm , let us now implement it on a defaulter dataset while following the machine learning process outlined earlier."
   ]
  },
  {
   "cell_type": "markdown",
   "id": "c4ee26d8",
   "metadata": {},
   "source": [
    "#### Step 1: Loading the data"
   ]
  },
  {
   "cell_type": "code",
   "execution_count": 23,
   "id": "ab8df6b7",
   "metadata": {},
   "outputs": [],
   "source": [
    "#reading in data from csv file\n",
    "defaulter = pd.read_csv('../ClassificationDataSet/defaulter.csv')"
   ]
  },
  {
   "cell_type": "markdown",
   "id": "e5bfe1b0",
   "metadata": {},
   "source": [
    "#### Step 2: Feature engineering - normalization\n",
    "Here you can normalize the balance and income columns in the data."
   ]
  },
  {
   "cell_type": "code",
   "execution_count": 24,
   "id": "3ead5999",
   "metadata": {},
   "outputs": [
    {
     "data": {
      "text/html": [
       "<div>\n",
       "<style scoped>\n",
       "    .dataframe tbody tr th:only-of-type {\n",
       "        vertical-align: middle;\n",
       "    }\n",
       "\n",
       "    .dataframe tbody tr th {\n",
       "        vertical-align: top;\n",
       "    }\n",
       "\n",
       "    .dataframe thead th {\n",
       "        text-align: right;\n",
       "    }\n",
       "</style>\n",
       "<table border=\"1\" class=\"dataframe\">\n",
       "  <thead>\n",
       "    <tr style=\"text-align: right;\">\n",
       "      <th></th>\n",
       "      <th>defaulter</th>\n",
       "      <th>student</th>\n",
       "      <th>balance</th>\n",
       "      <th>income</th>\n",
       "      <th>norm_balance</th>\n",
       "      <th>norm_income</th>\n",
       "    </tr>\n",
       "  </thead>\n",
       "  <tbody>\n",
       "    <tr>\n",
       "      <th>0</th>\n",
       "      <td>No</td>\n",
       "      <td>Yes</td>\n",
       "      <td>817.1804</td>\n",
       "      <td>12106.14</td>\n",
       "      <td>0.176304</td>\n",
       "      <td>0.000000</td>\n",
       "    </tr>\n",
       "    <tr>\n",
       "      <th>1</th>\n",
       "      <td>Yes</td>\n",
       "      <td>Yes</td>\n",
       "      <td>1486.9980</td>\n",
       "      <td>17854.40</td>\n",
       "      <td>1.000000</td>\n",
       "      <td>0.801006</td>\n",
       "    </tr>\n",
       "    <tr>\n",
       "      <th>2</th>\n",
       "      <td>Yes</td>\n",
       "      <td>Yes</td>\n",
       "      <td>1102.4350</td>\n",
       "      <td>17391.78</td>\n",
       "      <td>0.527091</td>\n",
       "      <td>0.736541</td>\n",
       "    </tr>\n",
       "    <tr>\n",
       "      <th>3</th>\n",
       "      <td>Yes</td>\n",
       "      <td>Yes</td>\n",
       "      <td>1233.4460</td>\n",
       "      <td>12586.48</td>\n",
       "      <td>0.688199</td>\n",
       "      <td>0.066934</td>\n",
       "    </tr>\n",
       "    <tr>\n",
       "      <th>4</th>\n",
       "      <td>Yes</td>\n",
       "      <td>Yes</td>\n",
       "      <td>1276.6850</td>\n",
       "      <td>19282.44</td>\n",
       "      <td>0.741371</td>\n",
       "      <td>1.000000</td>\n",
       "    </tr>\n",
       "  </tbody>\n",
       "</table>\n",
       "</div>"
      ],
      "text/plain": [
       "  defaulter student    balance    income  norm_balance  norm_income\n",
       "0        No     Yes   817.1804  12106.14      0.176304     0.000000\n",
       "1       Yes     Yes  1486.9980  17854.40      1.000000     0.801006\n",
       "2       Yes     Yes  1102.4350  17391.78      0.527091     0.736541\n",
       "3       Yes     Yes  1233.4460  12586.48      0.688199     0.066934\n",
       "4       Yes     Yes  1276.6850  19282.44      0.741371     1.000000"
      ]
     },
     "execution_count": 24,
     "metadata": {},
     "output_type": "execute_result"
    }
   ],
   "source": [
    "from sklearn.preprocessing import MinMaxScaler\n",
    "#applying MinMaxScaler to the default dataset\n",
    "scaler = MinMaxScaler()\n",
    "features_to_scale = [\"balance\",\"income\"]\n",
    "scaled_values = scaler.fit_transform(defaulter[features_to_scale])\n",
    "defaulter[\"norm_balance\"] = scaled_values[:,0]\n",
    "defaulter[\"norm_income\"] = scaled_values[:,1]\n",
    "defaulter.head()\n"
   ]
  },
  {
   "cell_type": "markdown",
   "id": "ac667eab",
   "metadata": {},
   "source": [
    "#### Step 3: Spliting the dataset into train and test data"
   ]
  },
  {
   "cell_type": "code",
   "execution_count": 25,
   "id": "44c75cfa",
   "metadata": {},
   "outputs": [],
   "source": [
    "from sklearn.model_selection import train_test_split\n",
    "# selecting the predictors and target\n",
    "X=defaulter[['norm_balance','norm_income']]\n",
    "Y=defaulter['defaulter']\n",
    "# splitting data into train and test data set\n",
    "X_train,X_test,Y_train,Y_test = train_test_split(X,Y,test_size=0.2,random_state=100)\n"
   ]
  },
  {
   "cell_type": "markdown",
   "id": "24bcc041",
   "metadata": {},
   "source": [
    "#### Step 4: Building the model"
   ]
  },
  {
   "cell_type": "code",
   "execution_count": 36,
   "id": "57a48722",
   "metadata": {},
   "outputs": [
    {
     "data": {
      "text/plain": [
       "KNeighborsClassifier(metric='euclidean', n_neighbors=2)"
      ]
     },
     "execution_count": 36,
     "metadata": {},
     "output_type": "execute_result"
    }
   ],
   "source": [
    "from sklearn.neighbors import KNeighborsClassifier\n",
    "#kNN with k=3\n",
    "model = KNeighborsClassifier(n_neighbors=2,metric=\"euclidean\")\n",
    "model.fit(X_train,Y_train)\n"
   ]
  },
  {
   "cell_type": "markdown",
   "id": "8abb405c",
   "metadata": {},
   "source": [
    "#### Step 5: Evaluate model performance on train and test sets"
   ]
  },
  {
   "cell_type": "code",
   "execution_count": 37,
   "id": "b29c59f2",
   "metadata": {},
   "outputs": [
    {
     "name": "stdout",
     "output_type": "stream",
     "text": [
      "0.875 1.0\n"
     ]
    }
   ],
   "source": [
    "train_accuracy = model.score(X_train,Y_train)\n",
    "test_accuracy = model.score(X_test,Y_test)\n",
    "print(train_accuracy,test_accuracy)\n",
    "#output\n",
    "#0.977375 0.967\n"
   ]
  },
  {
   "cell_type": "markdown",
   "id": "ae330de5",
   "metadata": {},
   "source": [
    "In our example, value chosen for k is 3 while building the model. However, the choice of k affects the performance of the model. So, for the kNN algorithm, k is a hyperparameter that needs to be tuned.\n",
    "\n",
    "The below code demonstrates the train and test accuracy for different values of k on the defaulter dataset:"
   ]
  },
  {
   "cell_type": "code",
   "execution_count": 33,
   "id": "c61a715d",
   "metadata": {},
   "outputs": [
    {
     "data": {
      "text/plain": [
       "[<matplotlib.lines.Line2D at 0x240573e5310>]"
      ]
     },
     "execution_count": 33,
     "metadata": {},
     "output_type": "execute_result"
    },
    {
     "data": {
      "image/png": "[encoded data removed]",
      "text/plain": [
       "<Figure size 432x288 with 1 Axes>"
      ]
     },
     "metadata": {
      "needs_background": "light"
     },
     "output_type": "display_data"
    }
   ],
   "source": [
    "train_accuracies = []\n",
    "test_accuracies = []\n",
    "\n",
    "# building KNN model for values of k from 1 to 10\n",
    "k_vals = [i for i in range(1,9)]\n",
    "features = [\"norm_balance\",\"norm_income\"]\n",
    "target = \"defaulter\"\n",
    "\n",
    "for k in k_vals:\n",
    "    model = KNeighborsClassifier(n_neighbors=k,metric='euclidean')\n",
    "    model.fit(X_train,Y_train)\n",
    "    train_accuracy_k = model.score(X_train,Y_train)\n",
    "    test_accuracy_k = model.score(X_test,Y_test)\n",
    "    train_accuracies.append(train_accuracy_k)\n",
    "    test_accuracies.append(test_accuracy_k)\n",
    "    \n",
    "plt.plot(k_vals,train_accuracies)\n",
    "plt.plot(k_vals,test_accuracies)\n"
   ]
  },
  {
   "cell_type": "code",
   "execution_count": null,
   "id": "db36d371",
   "metadata": {},
   "outputs": [],
   "source": []
  },
  {
   "cell_type": "code",
   "execution_count": null,
   "id": "22c92237",
   "metadata": {},
   "outputs": [],
   "source": []
  }
 ],
 "metadata": {
  "kernelspec": {
   "display_name": "Python 3",
   "language": "python",
   "name": "python3"
  },
  "language_info": {
   "codemirror_mode": {
    "name": "ipython",
    "version": 3
   },
   "file_extension": ".py",
   "mimetype": "text/x-python",
   "name": "python",
   "nbconvert_exporter": "python",
   "pygments_lexer": "ipython3",
   "version": "3.8.8"
  }
 },
 "nbformat": 4,
 "nbformat_minor": 5
}
