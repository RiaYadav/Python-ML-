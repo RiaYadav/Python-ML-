{
 "cells": [
  {
   "cell_type": "code",
   "execution_count": 13,
   "id": "5301e424",
   "metadata": {},
   "outputs": [],
   "source": [
    "class car:\n",
    "    def __init__(self,windows,doors,enginetypes):\n",
    "        self.window=windows\n",
    "        self.door=doors\n",
    "        self.enginetype=enginetypes\n",
    "        \n",
    "    def selfDrive(self):\n",
    "        return \"this is {} car\".format(self.enginetype)"
   ]
  },
  {
   "cell_type": "code",
   "execution_count": 14,
   "id": "673c00a9",
   "metadata": {},
   "outputs": [],
   "source": [
    "c1=car(4,5,'petrol')"
   ]
  },
  {
   "cell_type": "code",
   "execution_count": 15,
   "id": "b41c9f10",
   "metadata": {},
   "outputs": [
    {
     "data": {
      "text/plain": [
       "'this is petrol car'"
      ]
     },
     "execution_count": 15,
     "metadata": {},
     "output_type": "execute_result"
    }
   ],
   "source": [
    "c1.selfDrive()"
   ]
  }
 ],
 "metadata": {
  "kernelspec": {
   "display_name": "Python 3",
   "language": "python",
   "name": "python3"
  },
  "language_info": {
   "codemirror_mode": {
    "name": "ipython",
    "version": 3
   },
   "file_extension": ".py",
   "mimetype": "text/x-python",
   "name": "python",
   "nbconvert_exporter": "python",
   "pygments_lexer": "ipython3",
   "version": "3.8.8"
  }
 },
 "nbformat": 4,
 "nbformat_minor": 5
}
