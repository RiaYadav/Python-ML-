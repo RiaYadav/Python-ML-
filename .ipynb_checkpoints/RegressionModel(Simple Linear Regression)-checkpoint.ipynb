{
 "cells": [
  {
   "cell_type": "code",
   "execution_count": 2,
   "id": "b8f54e61",
   "metadata": {},
   "outputs": [],
   "source": [
    "import matplotlib.pyplot as plt\n",
    "import numpy as np\n",
    "import pandas as pd\n",
    "%matplotlib inline"
   ]
  },
  {
   "cell_type": "code",
   "execution_count": 4,
   "id": "24545ca7",
   "metadata": {},
   "outputs": [],
   "source": [
    "computer=pd.read_csv('computers.csv')"
   ]
  },
  {
   "cell_type": "code",
   "execution_count": 5,
   "id": "c1ab64ce",
   "metadata": {},
   "outputs": [
    {
     "data": {
      "text/html": [
       "<div>\n",
       "<style scoped>\n",
       "    .dataframe tbody tr th:only-of-type {\n",
       "        vertical-align: middle;\n",
       "    }\n",
       "\n",
       "    .dataframe tbody tr th {\n",
       "        vertical-align: top;\n",
       "    }\n",
       "\n",
       "    .dataframe thead th {\n",
       "        text-align: right;\n",
       "    }\n",
       "</style>\n",
       "<table border=\"1\" class=\"dataframe\">\n",
       "  <thead>\n",
       "    <tr style=\"text-align: right;\">\n",
       "      <th></th>\n",
       "      <th>Units</th>\n",
       "      <th>Minutes</th>\n",
       "    </tr>\n",
       "  </thead>\n",
       "  <tbody>\n",
       "    <tr>\n",
       "      <th>0</th>\n",
       "      <td>1</td>\n",
       "      <td>23</td>\n",
       "    </tr>\n",
       "    <tr>\n",
       "      <th>1</th>\n",
       "      <td>2</td>\n",
       "      <td>29</td>\n",
       "    </tr>\n",
       "    <tr>\n",
       "      <th>2</th>\n",
       "      <td>3</td>\n",
       "      <td>49</td>\n",
       "    </tr>\n",
       "    <tr>\n",
       "      <th>3</th>\n",
       "      <td>4</td>\n",
       "      <td>64</td>\n",
       "    </tr>\n",
       "    <tr>\n",
       "      <th>4</th>\n",
       "      <td>4</td>\n",
       "      <td>74</td>\n",
       "    </tr>\n",
       "  </tbody>\n",
       "</table>\n",
       "</div>"
      ],
      "text/plain": [
       "   Units  Minutes\n",
       "0      1       23\n",
       "1      2       29\n",
       "2      3       49\n",
       "3      4       64\n",
       "4      4       74"
      ]
     },
     "execution_count": 5,
     "metadata": {},
     "output_type": "execute_result"
    }
   ],
   "source": [
    "computer.head()"
   ]
  },
  {
   "cell_type": "markdown",
   "id": "c9275c69",
   "metadata": {},
   "source": [
    "#### Mean of Minutes"
   ]
  },
  {
   "cell_type": "code",
   "execution_count": 79,
   "id": "223e081a",
   "metadata": {},
   "outputs": [
    {
     "data": {
      "text/plain": [
       "97.21428571428571"
      ]
     },
     "execution_count": 79,
     "metadata": {},
     "output_type": "execute_result"
    }
   ],
   "source": [
    "#Calculating Mean\n",
    "mean_value=computer['Minutes'].mean()\n",
    "mean_value"
   ]
  },
  {
   "cell_type": "markdown",
   "id": "685fbf87",
   "metadata": {},
   "source": [
    "#### Plotting the actual time for each unit"
   ]
  },
  {
   "cell_type": "code",
   "execution_count": 14,
   "id": "c32f964b",
   "metadata": {},
   "outputs": [
    {
     "data": {
      "text/plain": [
       "<matplotlib.collections.PathCollection at 0x244911e0520>"
      ]
     },
     "execution_count": 14,
     "metadata": {},
     "output_type": "execute_result"
    },
    {
     "data": {
      "image/png": "[encoded data removed]",
      "text/plain": [
       "<Figure size 432x288 with 1 Axes>"
      ]
     },
     "metadata": {
      "needs_background": "light"
     },
     "output_type": "display_data"
    }
   ],
   "source": [
    "\n",
    "plt.scatter(computer['Units'],computer['Minutes'],color='blue',marker='o')"
   ]
  },
  {
   "cell_type": "markdown",
   "id": "edcc2462",
   "metadata": {},
   "source": [
    "#### Plotting the mean"
   ]
  },
  {
   "cell_type": "code",
   "execution_count": 15,
   "id": "a08f2900",
   "metadata": {},
   "outputs": [
    {
     "data": {
      "text/plain": [
       "<matplotlib.lines.Line2D at 0x244912329a0>"
      ]
     },
     "execution_count": 15,
     "metadata": {},
     "output_type": "execute_result"
    },
    {
     "data": {
      "image/png": "[encoded data removed]",
      "text/plain": [
       "<Figure size 432x288 with 1 Axes>"
      ]
     },
     "metadata": {
      "needs_background": "light"
     },
     "output_type": "display_data"
    }
   ],
   "source": [
    "\n",
    "plt.axhline(y=mean_value,c='r')"
   ]
  },
  {
   "cell_type": "markdown",
   "id": "611a48b3",
   "metadata": {},
   "source": [
    "#### Combine picture of Mean & Actual Time"
   ]
  },
  {
   "cell_type": "code",
   "execution_count": 22,
   "id": "409e7e3d",
   "metadata": {},
   "outputs": [
    {
     "data": {
      "text/plain": [
       "Text(0, 0.5, 'Minutes')"
      ]
     },
     "execution_count": 22,
     "metadata": {},
     "output_type": "execute_result"
    },
    {
     "data": {
      "image/png": "[encoded data removed]",
      "text/plain": [
       "<Figure size 432x288 with 1 Axes>"
      ]
     },
     "metadata": {
      "needs_background": "light"
     },
     "output_type": "display_data"
    }
   ],
   "source": [
    "plt.scatter(computer['Units'],computer['Minutes'],color='blue',marker='o')\n",
    "plt.axhline(y=mean_value,c='r')\n",
    "plt.annotate(\"Mean repair time\",xy=(7.5,mean_value+2))\n",
    "plt.xlabel(\"Units\")\n",
    "plt.ylabel(\"Minutes\")"
   ]
  },
  {
   "cell_type": "markdown",
   "id": "9798a913",
   "metadata": {},
   "source": [
    "#### Regression Models"
   ]
  },
  {
   "cell_type": "code",
   "execution_count": 30,
   "id": "4d61d465",
   "metadata": {},
   "outputs": [],
   "source": [
    "#Creatig regression model\n",
    "\n",
    "computer['min_model0'] = computer['Minutes'].mean()\n",
    "computer['min_model1'] = 10 + 12*computer['Units']\n",
    "computer['min_model2'] = 6 + 18*computer['Units']\n"
   ]
  },
  {
   "cell_type": "markdown",
   "id": "4d693bd8",
   "metadata": {},
   "source": [
    "#### Plotting Regression Models"
   ]
  },
  {
   "cell_type": "code",
   "execution_count": 80,
   "id": "5a70366b",
   "metadata": {},
   "outputs": [
    {
     "data": {
      "text/plain": [
       "<matplotlib.legend.Legend at 0x24492ad0eb0>"
      ]
     },
     "execution_count": 80,
     "metadata": {},
     "output_type": "execute_result"
    },
    {
     "data": {
      "image/png": "[encoded data removed]",
      "text/plain": [
       "<Figure size 432x288 with 1 Axes>"
      ]
     },
     "metadata": {
      "needs_background": "light"
     },
     "output_type": "display_data"
    }
   ],
   "source": [
    "fig,ax = plt.subplots()\n",
    "\n",
    "# Plotting the actual 'Minutes'\n",
    "ax.scatter(x=\"Units\",y=\"Minutes\",data=computer,label='actual repair time')\n",
    "\n",
    "# Plotting the Model0 predictions\n",
    "ax.plot(computer['Units'],computer['min_model0'],color=\"red\",label='model0')\n",
    "\n",
    "# Plotting the Model1 predictions\n",
    "ax.plot(computer['Units'],computer['min_model1'],color=\"green\",label='model1')\n",
    "\n",
    "# Plotting the Model2 predictions\n",
    "ax.plot(computer['Units'],computer['min_model2'],color=\"black\",label='model2')\n",
    "\n",
    "# Adding xlabel, ylabel, title and legend \n",
    "ax.set_ylabel(\"Minutes\")\n",
    "ax.set_xlabel(\"Units\")\n",
    "ax.set_title(\"Speculated Models\")\n",
    "ax.legend()\n"
   ]
  },
  {
   "cell_type": "markdown",
   "id": "a6a0a79a",
   "metadata": {},
   "source": [
    "#### Validating - Model 0"
   ]
  },
  {
   "cell_type": "code",
   "execution_count": 81,
   "id": "63520260",
   "metadata": {},
   "outputs": [
    {
     "data": {
      "text/html": [
       "<div>\n",
       "<style scoped>\n",
       "    .dataframe tbody tr th:only-of-type {\n",
       "        vertical-align: middle;\n",
       "    }\n",
       "\n",
       "    .dataframe tbody tr th {\n",
       "        vertical-align: top;\n",
       "    }\n",
       "\n",
       "    .dataframe thead th {\n",
       "        text-align: right;\n",
       "    }\n",
       "</style>\n",
       "<table border=\"1\" class=\"dataframe\">\n",
       "  <thead>\n",
       "    <tr style=\"text-align: right;\">\n",
       "      <th></th>\n",
       "      <th>Units</th>\n",
       "      <th>Actual time</th>\n",
       "      <th>Predicted time</th>\n",
       "      <th>Error</th>\n",
       "    </tr>\n",
       "  </thead>\n",
       "  <tbody>\n",
       "    <tr>\n",
       "      <th>0</th>\n",
       "      <td>1</td>\n",
       "      <td>23</td>\n",
       "      <td>97.214286</td>\n",
       "      <td>74.214286</td>\n",
       "    </tr>\n",
       "    <tr>\n",
       "      <th>1</th>\n",
       "      <td>2</td>\n",
       "      <td>29</td>\n",
       "      <td>97.214286</td>\n",
       "      <td>68.214286</td>\n",
       "    </tr>\n",
       "    <tr>\n",
       "      <th>2</th>\n",
       "      <td>3</td>\n",
       "      <td>49</td>\n",
       "      <td>97.214286</td>\n",
       "      <td>48.214286</td>\n",
       "    </tr>\n",
       "    <tr>\n",
       "      <th>3</th>\n",
       "      <td>4</td>\n",
       "      <td>64</td>\n",
       "      <td>97.214286</td>\n",
       "      <td>33.214286</td>\n",
       "    </tr>\n",
       "    <tr>\n",
       "      <th>4</th>\n",
       "      <td>4</td>\n",
       "      <td>74</td>\n",
       "      <td>97.214286</td>\n",
       "      <td>23.214286</td>\n",
       "    </tr>\n",
       "  </tbody>\n",
       "</table>\n",
       "</div>"
      ],
      "text/plain": [
       "   Units  Actual time  Predicted time      Error\n",
       "0      1           23       97.214286  74.214286\n",
       "1      2           29       97.214286  68.214286\n",
       "2      3           49       97.214286  48.214286\n",
       "3      4           64       97.214286  33.214286\n",
       "4      4           74       97.214286  23.214286"
      ]
     },
     "execution_count": 81,
     "metadata": {},
     "output_type": "execute_result"
    }
   ],
   "source": [
    "# Validating Model0: Estimated time = mean('Minutes')\n",
    "# Creating a Pandas DataFrame with 'Units', actual 'Minutes', predicted 'Minutes' by Model0, error in prediction by Model0.\n",
    "\n",
    "model0_obs = pd.DataFrame({\"Units\":computer['Units'],\n",
    "              \"Actual time\":computer['Minutes'],\n",
    "              \"Predicted time\":computer['min_model0'],\n",
    "              \"Error\":(computer['min_model0'] - computer['Minutes'])})\n",
    "model0_obs.head() # Printing the DataFrame\n"
   ]
  },
  {
   "cell_type": "markdown",
   "id": "a68e8ea5",
   "metadata": {},
   "source": [
    "#### Validating Model - 1"
   ]
  },
  {
   "cell_type": "code",
   "execution_count": 88,
   "id": "1b72758d",
   "metadata": {},
   "outputs": [
    {
     "data": {
      "text/html": [
       "<div>\n",
       "<style scoped>\n",
       "    .dataframe tbody tr th:only-of-type {\n",
       "        vertical-align: middle;\n",
       "    }\n",
       "\n",
       "    .dataframe tbody tr th {\n",
       "        vertical-align: top;\n",
       "    }\n",
       "\n",
       "    .dataframe thead th {\n",
       "        text-align: right;\n",
       "    }\n",
       "</style>\n",
       "<table border=\"1\" class=\"dataframe\">\n",
       "  <thead>\n",
       "    <tr style=\"text-align: right;\">\n",
       "      <th></th>\n",
       "      <th>Units</th>\n",
       "      <th>Actual time</th>\n",
       "      <th>Predicted time</th>\n",
       "      <th>Error</th>\n",
       "    </tr>\n",
       "  </thead>\n",
       "  <tbody>\n",
       "    <tr>\n",
       "      <th>0</th>\n",
       "      <td>1</td>\n",
       "      <td>23</td>\n",
       "      <td>22</td>\n",
       "      <td>-1</td>\n",
       "    </tr>\n",
       "    <tr>\n",
       "      <th>1</th>\n",
       "      <td>2</td>\n",
       "      <td>29</td>\n",
       "      <td>34</td>\n",
       "      <td>5</td>\n",
       "    </tr>\n",
       "    <tr>\n",
       "      <th>2</th>\n",
       "      <td>3</td>\n",
       "      <td>49</td>\n",
       "      <td>46</td>\n",
       "      <td>-3</td>\n",
       "    </tr>\n",
       "    <tr>\n",
       "      <th>3</th>\n",
       "      <td>4</td>\n",
       "      <td>64</td>\n",
       "      <td>58</td>\n",
       "      <td>-6</td>\n",
       "    </tr>\n",
       "    <tr>\n",
       "      <th>4</th>\n",
       "      <td>4</td>\n",
       "      <td>74</td>\n",
       "      <td>58</td>\n",
       "      <td>-16</td>\n",
       "    </tr>\n",
       "  </tbody>\n",
       "</table>\n",
       "</div>"
      ],
      "text/plain": [
       "   Units  Actual time  Predicted time  Error\n",
       "0      1           23              22     -1\n",
       "1      2           29              34      5\n",
       "2      3           49              46     -3\n",
       "3      4           64              58     -6\n",
       "4      4           74              58    -16"
      ]
     },
     "execution_count": 88,
     "metadata": {},
     "output_type": "execute_result"
    }
   ],
   "source": [
    "# Creating a Pandas DataFrame with 'Units', actual 'Minutes', predicted 'Minutes' by Model1, error in prediction by Model1.\n",
    "# Model1: Estimated time = 10 + 12*(#Units) minutes\n",
    "\n",
    "model1_obs = pd.DataFrame({\"Units\":computer.Units,\n",
    "              \"Actual time\":computer.Minutes,\n",
    "              \"Predicted time\":computer.min_model1,\n",
    "              \"Error\":(computer.min_model1 - computer.Minutes)})\n",
    "model1_obs.head()\n"
   ]
  },
  {
   "cell_type": "markdown",
   "id": "55963fa1",
   "metadata": {},
   "source": [
    "#### Validating Model -2"
   ]
  },
  {
   "cell_type": "code",
   "execution_count": 89,
   "id": "b1a5a3da",
   "metadata": {},
   "outputs": [
    {
     "data": {
      "text/html": [
       "<div>\n",
       "<style scoped>\n",
       "    .dataframe tbody tr th:only-of-type {\n",
       "        vertical-align: middle;\n",
       "    }\n",
       "\n",
       "    .dataframe tbody tr th {\n",
       "        vertical-align: top;\n",
       "    }\n",
       "\n",
       "    .dataframe thead th {\n",
       "        text-align: right;\n",
       "    }\n",
       "</style>\n",
       "<table border=\"1\" class=\"dataframe\">\n",
       "  <thead>\n",
       "    <tr style=\"text-align: right;\">\n",
       "      <th></th>\n",
       "      <th>Units</th>\n",
       "      <th>Actual time</th>\n",
       "      <th>Predicted time</th>\n",
       "      <th>Error</th>\n",
       "    </tr>\n",
       "  </thead>\n",
       "  <tbody>\n",
       "    <tr>\n",
       "      <th>0</th>\n",
       "      <td>1</td>\n",
       "      <td>23</td>\n",
       "      <td>24</td>\n",
       "      <td>1</td>\n",
       "    </tr>\n",
       "    <tr>\n",
       "      <th>1</th>\n",
       "      <td>2</td>\n",
       "      <td>29</td>\n",
       "      <td>42</td>\n",
       "      <td>13</td>\n",
       "    </tr>\n",
       "    <tr>\n",
       "      <th>2</th>\n",
       "      <td>3</td>\n",
       "      <td>49</td>\n",
       "      <td>60</td>\n",
       "      <td>11</td>\n",
       "    </tr>\n",
       "    <tr>\n",
       "      <th>3</th>\n",
       "      <td>4</td>\n",
       "      <td>64</td>\n",
       "      <td>78</td>\n",
       "      <td>14</td>\n",
       "    </tr>\n",
       "    <tr>\n",
       "      <th>4</th>\n",
       "      <td>4</td>\n",
       "      <td>74</td>\n",
       "      <td>78</td>\n",
       "      <td>4</td>\n",
       "    </tr>\n",
       "  </tbody>\n",
       "</table>\n",
       "</div>"
      ],
      "text/plain": [
       "   Units  Actual time  Predicted time  Error\n",
       "0      1           23              24      1\n",
       "1      2           29              42     13\n",
       "2      3           49              60     11\n",
       "3      4           64              78     14\n",
       "4      4           74              78      4"
      ]
     },
     "execution_count": 89,
     "metadata": {},
     "output_type": "execute_result"
    }
   ],
   "source": [
    "# Creating a Pandas DataFrame with 'Units', actual 'Minutes', predicted 'Minutes' by Model2, error in prediction by Model2.\n",
    "# Model2: Estimated time = 6 + 18*(#Units) minutes\n",
    "\n",
    "model2_obs = pd.DataFrame({\"Units\":computer.Units,\n",
    "              \"Actual time\":computer.Minutes,\n",
    "              \"Predicted time\":computer.min_model2,\n",
    "              \"Error\":(computer.min_model2 - computer.Minutes)})\n",
    "model2_obs.head()\n"
   ]
  },
  {
   "cell_type": "code",
   "execution_count": 92,
   "id": "97706e07",
   "metadata": {},
   "outputs": [
    {
     "name": "stdout",
     "output_type": "stream",
     "text": [
      "model0_error:- 27768.357142857145, model1_error:- 4993, model1_error:- 5001\n"
     ]
    }
   ],
   "source": [
    "# SSE for Model0\n",
    "model0_error=sum(model0_obs.Error**2)\n",
    "\n",
    "# SSE for Model1\n",
    "model1_error=sum(model1_obs.Error**2)\n",
    "\n",
    "# SSE for Model2\n",
    "model2_error=sum(model2_obs.Error**2)\n",
    "\n",
    "print(\"model0_error:- {}, model1_error:- {}, model1_error:- {}\".format(model0_error,model1_error,model2_error))\n"
   ]
  },
  {
   "cell_type": "markdown",
   "id": "d75b1edc",
   "metadata": {},
   "source": [
    "#### SSEs of 3Models"
   ]
  },
  {
   "cell_type": "code",
   "execution_count": 93,
   "id": "12907053",
   "metadata": {},
   "outputs": [
    {
     "data": {
      "text/html": [
       "<div>\n",
       "<style scoped>\n",
       "    .dataframe tbody tr th:only-of-type {\n",
       "        vertical-align: middle;\n",
       "    }\n",
       "\n",
       "    .dataframe tbody tr th {\n",
       "        vertical-align: top;\n",
       "    }\n",
       "\n",
       "    .dataframe thead th {\n",
       "        text-align: right;\n",
       "    }\n",
       "</style>\n",
       "<table border=\"1\" class=\"dataframe\">\n",
       "  <thead>\n",
       "    <tr style=\"text-align: right;\">\n",
       "      <th></th>\n",
       "      <th>Expected Time</th>\n",
       "      <th>SSE</th>\n",
       "    </tr>\n",
       "  </thead>\n",
       "  <tbody>\n",
       "    <tr>\n",
       "      <th>model0_obs</th>\n",
       "      <td>Mean Time - 97.21</td>\n",
       "      <td>27768.357143</td>\n",
       "    </tr>\n",
       "    <tr>\n",
       "      <th>model1_obs</th>\n",
       "      <td>10 + 12*computer['Units']</td>\n",
       "      <td>4993.000000</td>\n",
       "    </tr>\n",
       "    <tr>\n",
       "      <th>model2_obs</th>\n",
       "      <td>6 + 18*computer['Units']</td>\n",
       "      <td>5001.000000</td>\n",
       "    </tr>\n",
       "  </tbody>\n",
       "</table>\n",
       "</div>"
      ],
      "text/plain": [
       "                        Expected Time           SSE\n",
       "model0_obs          Mean Time - 97.21  27768.357143\n",
       "model1_obs  10 + 12*computer['Units']   4993.000000\n",
       "model2_obs   6 + 18*computer['Units']   5001.000000"
      ]
     },
     "execution_count": 93,
     "metadata": {},
     "output_type": "execute_result"
    }
   ],
   "source": [
    "setOfModel=pd.DataFrame({'Expected Time':[\"Mean Time - \"+str(round(mean_value,2)),\"10 + 12*computer['Units']\",\"6 + 18*computer['Units']\"],\n",
    "                        'SSE':[model0_error,model1_error,model2_error]}, index=['model0_obs','model1_obs','model2_obs'])\n",
    "setOfModel"
   ]
  },
  {
   "cell_type": "markdown",
   "id": "6c07e5f4",
   "metadata": {},
   "source": [
    "#### BEST FIT SEARCH"
   ]
  },
  {
   "cell_type": "code",
   "execution_count": 94,
   "id": "371b2628",
   "metadata": {},
   "outputs": [
    {
     "name": "stdout",
     "output_type": "stream",
     "text": [
      "intercept :  4.161654135338296  coefficient :  15.508771929824569\n"
     ]
    }
   ],
   "source": [
    "#Findind Best Fit\n",
    "x = computer.Units \n",
    "y = computer.Minutes\n",
    "xiyi = x*y\n",
    "\n",
    "n = len(computer)\n",
    "\n",
    "xmean = computer.Units.mean()\n",
    "ymean = computer.Minutes.mean()\n",
    "\n",
    "numerator = xiyi.sum() - n*xmean*ymean\n",
    "denominator = (x**2).sum() - n*(xmean**2)\n",
    "\n",
    "m = numerator/denominator\n",
    "c = ymean - (m*xmean)\n",
    "print('intercept : ',c,' coefficient : ',m)\n"
   ]
  },
  {
   "cell_type": "markdown",
   "id": "f0c08c9f",
   "metadata": {},
   "source": [
    "#### Estimated time taken to repair a computer = 4.16165 + 15.50877 * Number of faulty units"
   ]
  },
  {
   "cell_type": "code",
   "execution_count": 64,
   "id": "a45b901b",
   "metadata": {},
   "outputs": [
    {
     "data": {
      "text/html": [
       "<div>\n",
       "<style scoped>\n",
       "    .dataframe tbody tr th:only-of-type {\n",
       "        vertical-align: middle;\n",
       "    }\n",
       "\n",
       "    .dataframe tbody tr th {\n",
       "        vertical-align: top;\n",
       "    }\n",
       "\n",
       "    .dataframe thead th {\n",
       "        text-align: right;\n",
       "    }\n",
       "</style>\n",
       "<table border=\"1\" class=\"dataframe\">\n",
       "  <thead>\n",
       "    <tr style=\"text-align: right;\">\n",
       "      <th></th>\n",
       "      <th>Units</th>\n",
       "      <th>Minutes</th>\n",
       "      <th>min_best_fit_model</th>\n",
       "    </tr>\n",
       "  </thead>\n",
       "  <tbody>\n",
       "    <tr>\n",
       "      <th>0</th>\n",
       "      <td>1</td>\n",
       "      <td>23</td>\n",
       "      <td>19.670426</td>\n",
       "    </tr>\n",
       "    <tr>\n",
       "      <th>1</th>\n",
       "      <td>2</td>\n",
       "      <td>29</td>\n",
       "      <td>35.179198</td>\n",
       "    </tr>\n",
       "    <tr>\n",
       "      <th>2</th>\n",
       "      <td>3</td>\n",
       "      <td>49</td>\n",
       "      <td>50.687970</td>\n",
       "    </tr>\n",
       "    <tr>\n",
       "      <th>3</th>\n",
       "      <td>4</td>\n",
       "      <td>64</td>\n",
       "      <td>66.196742</td>\n",
       "    </tr>\n",
       "    <tr>\n",
       "      <th>4</th>\n",
       "      <td>4</td>\n",
       "      <td>74</td>\n",
       "      <td>66.196742</td>\n",
       "    </tr>\n",
       "    <tr>\n",
       "      <th>5</th>\n",
       "      <td>5</td>\n",
       "      <td>87</td>\n",
       "      <td>81.705514</td>\n",
       "    </tr>\n",
       "    <tr>\n",
       "      <th>6</th>\n",
       "      <td>6</td>\n",
       "      <td>96</td>\n",
       "      <td>97.214286</td>\n",
       "    </tr>\n",
       "    <tr>\n",
       "      <th>7</th>\n",
       "      <td>6</td>\n",
       "      <td>97</td>\n",
       "      <td>97.214286</td>\n",
       "    </tr>\n",
       "    <tr>\n",
       "      <th>8</th>\n",
       "      <td>7</td>\n",
       "      <td>109</td>\n",
       "      <td>112.723058</td>\n",
       "    </tr>\n",
       "    <tr>\n",
       "      <th>9</th>\n",
       "      <td>8</td>\n",
       "      <td>119</td>\n",
       "      <td>128.231830</td>\n",
       "    </tr>\n",
       "    <tr>\n",
       "      <th>10</th>\n",
       "      <td>9</td>\n",
       "      <td>149</td>\n",
       "      <td>143.740602</td>\n",
       "    </tr>\n",
       "    <tr>\n",
       "      <th>11</th>\n",
       "      <td>9</td>\n",
       "      <td>145</td>\n",
       "      <td>143.740602</td>\n",
       "    </tr>\n",
       "    <tr>\n",
       "      <th>12</th>\n",
       "      <td>10</td>\n",
       "      <td>154</td>\n",
       "      <td>159.249373</td>\n",
       "    </tr>\n",
       "    <tr>\n",
       "      <th>13</th>\n",
       "      <td>10</td>\n",
       "      <td>166</td>\n",
       "      <td>159.249373</td>\n",
       "    </tr>\n",
       "  </tbody>\n",
       "</table>\n",
       "</div>"
      ],
      "text/plain": [
       "    Units  Minutes  min_best_fit_model\n",
       "0       1       23           19.670426\n",
       "1       2       29           35.179198\n",
       "2       3       49           50.687970\n",
       "3       4       64           66.196742\n",
       "4       4       74           66.196742\n",
       "5       5       87           81.705514\n",
       "6       6       96           97.214286\n",
       "7       6       97           97.214286\n",
       "8       7      109          112.723058\n",
       "9       8      119          128.231830\n",
       "10      9      149          143.740602\n",
       "11      9      145          143.740602\n",
       "12     10      154          159.249373\n",
       "13     10      166          159.249373"
      ]
     },
     "execution_count": 64,
     "metadata": {},
     "output_type": "execute_result"
    }
   ],
   "source": [
    "# Estimating time using the intercept and the coefficient of the best fit model\n",
    "min_best_fit_model = c + m*computer.Units\n",
    "\n",
    "# Adding the predicted values to the dataset\n",
    "computer['min_best_fit_model'] = min_best_fit_model\n",
    "\n",
    "# Printing the values predicted by the best fit model\n",
    "computer[[\"Units\",\"Minutes\",\"min_best_fit_model\"]]\n"
   ]
  },
  {
   "cell_type": "markdown",
   "id": "b862be51",
   "metadata": {},
   "source": [
    "#### Visualizing the Best Fit Model"
   ]
  },
  {
   "cell_type": "code",
   "execution_count": 95,
   "id": "064a9fe3",
   "metadata": {},
   "outputs": [
    {
     "data": {
      "text/plain": [
       "<matplotlib.legend.Legend at 0x2449285b6a0>"
      ]
     },
     "execution_count": 95,
     "metadata": {},
     "output_type": "execute_result"
    },
    {
     "data": {
      "image/png": "[encoded data removed]",
      "text/plain": [
       "<Figure size 432x288 with 1 Axes>"
      ]
     },
     "metadata": {
      "needs_background": "light"
     },
     "output_type": "display_data"
    }
   ],
   "source": [
    "fig,ax = plt.subplots()\n",
    "\n",
    "# Plotting the actual 'Minutes'\n",
    "ax.scatter(x=\"Units\",y=\"Minutes\",data=computer,label='estimated repair time')\n",
    "\n",
    "# Plotting the Model0 predictions\n",
    "ax.plot(computer['Units'],computer['min_best_fit_model'],color=\"red\",label='Best Fit Time')\n",
    "\n",
    "ax.set_ylabel(\"Minutes\")\n",
    "ax.set_xlabel(\"Units\")\n",
    "ax.set_title(\"Best fit Models\")\n",
    "ax.legend()"
   ]
  },
  {
   "cell_type": "markdown",
   "id": "3fe7aa61",
   "metadata": {},
   "source": [
    "#### Creating Best Fit dataframe"
   ]
  },
  {
   "cell_type": "code",
   "execution_count": 77,
   "id": "8071ed7d",
   "metadata": {},
   "outputs": [
    {
     "data": {
      "text/html": [
       "<div>\n",
       "<style scoped>\n",
       "    .dataframe tbody tr th:only-of-type {\n",
       "        vertical-align: middle;\n",
       "    }\n",
       "\n",
       "    .dataframe tbody tr th {\n",
       "        vertical-align: top;\n",
       "    }\n",
       "\n",
       "    .dataframe thead th {\n",
       "        text-align: right;\n",
       "    }\n",
       "</style>\n",
       "<table border=\"1\" class=\"dataframe\">\n",
       "  <thead>\n",
       "    <tr style=\"text-align: right;\">\n",
       "      <th></th>\n",
       "      <th>Units</th>\n",
       "      <th>Actual time</th>\n",
       "      <th>Predicted time</th>\n",
       "      <th>Error</th>\n",
       "      <th>Square of Error</th>\n",
       "    </tr>\n",
       "  </thead>\n",
       "  <tbody>\n",
       "    <tr>\n",
       "      <th>0</th>\n",
       "      <td>1</td>\n",
       "      <td>23</td>\n",
       "      <td>19.670426</td>\n",
       "      <td>-3.329574</td>\n",
       "      <td>11.086063</td>\n",
       "    </tr>\n",
       "    <tr>\n",
       "      <th>1</th>\n",
       "      <td>2</td>\n",
       "      <td>29</td>\n",
       "      <td>35.179198</td>\n",
       "      <td>6.179198</td>\n",
       "      <td>38.182488</td>\n",
       "    </tr>\n",
       "    <tr>\n",
       "      <th>2</th>\n",
       "      <td>3</td>\n",
       "      <td>49</td>\n",
       "      <td>50.687970</td>\n",
       "      <td>1.687970</td>\n",
       "      <td>2.849242</td>\n",
       "    </tr>\n",
       "    <tr>\n",
       "      <th>3</th>\n",
       "      <td>4</td>\n",
       "      <td>64</td>\n",
       "      <td>66.196742</td>\n",
       "      <td>2.196742</td>\n",
       "      <td>4.825675</td>\n",
       "    </tr>\n",
       "    <tr>\n",
       "      <th>4</th>\n",
       "      <td>4</td>\n",
       "      <td>74</td>\n",
       "      <td>66.196742</td>\n",
       "      <td>-7.803258</td>\n",
       "      <td>60.890838</td>\n",
       "    </tr>\n",
       "    <tr>\n",
       "      <th>5</th>\n",
       "      <td>5</td>\n",
       "      <td>87</td>\n",
       "      <td>81.705514</td>\n",
       "      <td>-5.294486</td>\n",
       "      <td>28.031584</td>\n",
       "    </tr>\n",
       "    <tr>\n",
       "      <th>6</th>\n",
       "      <td>6</td>\n",
       "      <td>96</td>\n",
       "      <td>97.214286</td>\n",
       "      <td>1.214286</td>\n",
       "      <td>1.474490</td>\n",
       "    </tr>\n",
       "    <tr>\n",
       "      <th>7</th>\n",
       "      <td>6</td>\n",
       "      <td>97</td>\n",
       "      <td>97.214286</td>\n",
       "      <td>0.214286</td>\n",
       "      <td>0.045918</td>\n",
       "    </tr>\n",
       "    <tr>\n",
       "      <th>8</th>\n",
       "      <td>7</td>\n",
       "      <td>109</td>\n",
       "      <td>112.723058</td>\n",
       "      <td>3.723058</td>\n",
       "      <td>13.861158</td>\n",
       "    </tr>\n",
       "    <tr>\n",
       "      <th>9</th>\n",
       "      <td>8</td>\n",
       "      <td>119</td>\n",
       "      <td>128.231830</td>\n",
       "      <td>9.231830</td>\n",
       "      <td>85.226677</td>\n",
       "    </tr>\n",
       "    <tr>\n",
       "      <th>10</th>\n",
       "      <td>9</td>\n",
       "      <td>149</td>\n",
       "      <td>143.740602</td>\n",
       "      <td>-5.259398</td>\n",
       "      <td>27.661273</td>\n",
       "    </tr>\n",
       "    <tr>\n",
       "      <th>11</th>\n",
       "      <td>9</td>\n",
       "      <td>145</td>\n",
       "      <td>143.740602</td>\n",
       "      <td>-1.259398</td>\n",
       "      <td>1.586085</td>\n",
       "    </tr>\n",
       "    <tr>\n",
       "      <th>12</th>\n",
       "      <td>10</td>\n",
       "      <td>154</td>\n",
       "      <td>159.249373</td>\n",
       "      <td>5.249373</td>\n",
       "      <td>27.555921</td>\n",
       "    </tr>\n",
       "    <tr>\n",
       "      <th>13</th>\n",
       "      <td>10</td>\n",
       "      <td>166</td>\n",
       "      <td>159.249373</td>\n",
       "      <td>-6.750627</td>\n",
       "      <td>45.570959</td>\n",
       "    </tr>\n",
       "  </tbody>\n",
       "</table>\n",
       "</div>"
      ],
      "text/plain": [
       "    Units  Actual time  Predicted time     Error  Square of Error\n",
       "0       1           23       19.670426 -3.329574        11.086063\n",
       "1       2           29       35.179198  6.179198        38.182488\n",
       "2       3           49       50.687970  1.687970         2.849242\n",
       "3       4           64       66.196742  2.196742         4.825675\n",
       "4       4           74       66.196742 -7.803258        60.890838\n",
       "5       5           87       81.705514 -5.294486        28.031584\n",
       "6       6           96       97.214286  1.214286         1.474490\n",
       "7       6           97       97.214286  0.214286         0.045918\n",
       "8       7          109      112.723058  3.723058        13.861158\n",
       "9       8          119      128.231830  9.231830        85.226677\n",
       "10      9          149      143.740602 -5.259398        27.661273\n",
       "11      9          145      143.740602 -1.259398         1.586085\n",
       "12     10          154      159.249373  5.249373        27.555921\n",
       "13     10          166      159.249373 -6.750627        45.570959"
      ]
     },
     "execution_count": 77,
     "metadata": {},
     "output_type": "execute_result"
    }
   ],
   "source": [
    "# Computing the individual errors for the best fit model\n",
    "best_fit_model_obs = pd.DataFrame({\"Units\":computer.Units,\n",
    "              \"Actual time\":computer.Minutes,\n",
    "              \"Predicted time\":computer.min_best_fit_model,\n",
    "              \"Error\":computer.min_best_fit_model - computer.Minutes,\n",
    "               \"Square of Error\":best_fit_model_obs['Error']**2})\n",
    "best_fit_model_obs\n"
   ]
  },
  {
   "cell_type": "markdown",
   "id": "61d01d4a",
   "metadata": {},
   "source": [
    "## ------------------------------------------------------------------------------------------------------------------------ ##"
   ]
  },
  {
   "cell_type": "markdown",
   "id": "9b1e400f",
   "metadata": {},
   "source": [
    "# Best Fit Model using sklearn.linear_model.LinearRegression"
   ]
  },
  {
   "cell_type": "code",
   "execution_count": 101,
   "id": "5eb091af",
   "metadata": {},
   "outputs": [],
   "source": [
    "# Importing the required class\n",
    "from sklearn.linear_model import LinearRegression"
   ]
  },
  {
   "cell_type": "code",
   "execution_count": 104,
   "id": "47ca2b02",
   "metadata": {},
   "outputs": [
    {
     "name": "stdout",
     "output_type": "stream",
     "text": [
      "Intercept: 4.161654135338296\n",
      "Coefficients: [15.50877193]\n"
     ]
    }
   ],
   "source": [
    "# Setting the 'Units' column as the input data or predictor column\n",
    "X = computer[['Units']]\n",
    "\n",
    "# Setting the 'Minutes' column as the output data or target column\n",
    "y=computer['Minutes']\n",
    "\n",
    "# Creating a linear regression model\n",
    "model = LinearRegression()\n",
    "\n",
    "# Fitting the model to the data i.e. building the model\n",
    "model.fit(X, y)\n",
    "\n",
    "# Fetching intercept and coefficient\n",
    "print(\"Intercept:\", model.intercept_)\n",
    "print(\"Coefficients:\",model.coef_)\n"
   ]
  },
  {
   "cell_type": "markdown",
   "id": "e9dcccd8",
   "metadata": {},
   "source": [
    "#### The intercept indicates the value of b0 and coefficients represents the remaining coefficient b1.\n",
    "\n",
    "#### Thus the best fit model becomes:\n",
    "\n",
    "### Estimated time taken to repair a computer = 4.161654 + (15.50877 x Units being replaced)"
   ]
  },
  {
   "cell_type": "markdown",
   "id": "b79d69c6",
   "metadata": {},
   "source": [
    "### Coefficient of Determination:\n",
    "\n",
    "##### So far you learnt to create best fit Linear Regression Model. Now, let us try to determine if the model is useful using the same dataset.\n",
    "\n",
    "##### Time taken to repair a computer ≈ 4.161654 + (15.50877 x Units being replaced)\n",
    "\n",
    "#### The usefulness of a linear regression model for a data set with an outcome variable y and a predictor variable x, having a linear relationship modeled using simple linear regression can be determined using the coefficient of determination (R2) -"
   ]
  },
  {
   "cell_type": "markdown",
   "id": "8557aaf7",
   "metadata": {},
   "source": [
    "####                                  R^2 = sum of squared regression(SSR) / sum of squared total(SST)"
   ]
  },
  {
   "cell_type": "markdown",
   "id": "6d9e5d32",
   "metadata": {},
   "source": [
    "#### SST is the sum of squared differences between actual and mean target values,  \n",
    "#### SSR is the sum of squared differences between predicted  and mean target values,  \n",
    "#### SST = SSR + SSE."
   ]
  },
  {
   "cell_type": "markdown",
   "id": "b362d9bb",
   "metadata": {},
   "source": [
    "#### Computing the Coefficient of Determination"
   ]
  },
  {
   "cell_type": "code",
   "execution_count": 106,
   "id": "a3d55ec8",
   "metadata": {},
   "outputs": [
    {
     "data": {
      "text/plain": [
       "0.9874371980620736"
      ]
     },
     "execution_count": 106,
     "metadata": {},
     "output_type": "execute_result"
    }
   ],
   "source": [
    "SST = sum((computer.Minutes.mean() - computer.Minutes)**2)\n",
    "SST\n",
    "# 27768.357142857145\n",
    "\n",
    "SSE = sum(best_fit_model_obs.Error**2)\n",
    "SSE\n",
    "# 348.848370927318\n",
    "\n",
    "SSR = SST - SSE\n",
    "SSR\n",
    "# 27419.508771929828\n",
    "\n",
    "Rsq = SSR/SST\n",
    "Rsq\n",
    "# 0.9874371980620736\n",
    "\n",
    "#DIRECT FORMULA\n",
    "Rsq1 = model.score(computer[[\"Units\"]],y)\n",
    "Rsq1\n",
    "# 0.9874371980620736\n"
   ]
  },
  {
   "cell_type": "markdown",
   "id": "192833c5",
   "metadata": {},
   "source": [
    "##### As shown in the code, the score() of the model directly computes the R2 value.\n",
    "\n",
    "##### An R2 value of 0.9874372 indicates that 98.74 % of the variability observed in the dependent variable (time taken to repair computer) can be explained by variability in the predictor variable (units being replaced) in this sample data set.\n",
    "\n",
    "##### R2 can take values in the range 0 and 1. The higher the value of R2, the more useful is the model."
   ]
  }
 ],
 "metadata": {
  "kernelspec": {
   "display_name": "Python 3",
   "language": "python",
   "name": "python3"
  },
  "language_info": {
   "codemirror_mode": {
    "name": "ipython",
    "version": 3
   },
   "file_extension": ".py",
   "mimetype": "text/x-python",
   "name": "python",
   "nbconvert_exporter": "python",
   "pygments_lexer": "ipython3",
   "version": "3.8.8"
  }
 },
 "nbformat": 4,
 "nbformat_minor": 5
}
